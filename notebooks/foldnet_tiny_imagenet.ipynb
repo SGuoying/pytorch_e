{
 "cells": [
  {
   "cell_type": "code",
   "execution_count": 1,
   "id": "2d057e0b-977d-4e93-b21a-f5dfae1520b0",
   "metadata": {
    "execution": {
     "iopub.execute_input": "2022-10-28T16:30:41.628794Z",
     "iopub.status.busy": "2022-10-28T16:30:41.628488Z",
     "iopub.status.idle": "2022-10-28T16:30:44.204686Z",
     "shell.execute_reply": "2022-10-28T16:30:44.203616Z",
     "shell.execute_reply.started": "2022-10-28T16:30:41.628736Z"
    }
   },
   "outputs": [],
   "source": [
    "%%capture\n",
    "!pip install ipywidgets"
   ]
  },
  {
   "cell_type": "code",
   "execution_count": 2,
   "id": "acf56aee-5a96-4157-8efa-9b00cd1e36dd",
   "metadata": {
    "execution": {
     "iopub.execute_input": "2022-10-28T16:30:44.206632Z",
     "iopub.status.busy": "2022-10-28T16:30:44.206343Z",
     "iopub.status.idle": "2022-10-28T16:32:41.889757Z",
     "shell.execute_reply": "2022-10-28T16:32:41.888880Z",
     "shell.execute_reply.started": "2022-10-28T16:30:44.206612Z"
    }
   },
   "outputs": [],
   "source": [
    "%%capture\n",
    "! pip install torch==1.12.1+cu116 torchvision==0.13.1+cu116 torchaudio==0.12.1 --extra-index-url https://download.pytorch.org/whl/cu116\n",
    "! pip install git+https://github.com/keepsimpler/sunyata\n",
    "! pip install pytorch-lightning\n",
    "! pip install lightning-bolts\n",
    "! pip install einops"
   ]
  },
  {
   "cell_type": "code",
   "execution_count": 3,
   "id": "4672ef72-4377-4577-b292-96a28d7e9f75",
   "metadata": {
    "execution": {
     "iopub.execute_input": "2022-10-28T16:32:41.893539Z",
     "iopub.status.busy": "2022-10-28T16:32:41.893353Z",
     "iopub.status.idle": "2022-10-28T16:32:43.237832Z",
     "shell.execute_reply": "2022-10-28T16:32:43.237221Z",
     "shell.execute_reply.started": "2022-10-28T16:32:41.893515Z"
    }
   },
   "outputs": [],
   "source": [
    "import os\n",
    "\n",
    "import torch\n",
    "import torch.nn as nn\n",
    "import torch.nn.functional as F\n",
    "import torchvision\n",
    "\n",
    "from sunyata.pytorch.data.tiny_imagenet import TinyImageNet, TinyImageNetDataModule\n",
    "\n",
    "import pytorch_lightning as pl\n",
    "from pytorch_lightning.callbacks import LearningRateMonitor\n",
    "from pytorch_lightning.loggers import CSVLogger\n",
    "\n",
    "from sunyata.pytorch.arch.base import BaseModule, Residual\n",
    "from sunyata.pytorch.arch.foldnet import FoldNet, FoldNetCfg, FoldNetRepeat, FoldNetRepeat2, Block"
   ]
  },
  {
   "cell_type": "code",
   "execution_count": 30,
   "id": "41e6ccfa-eea2-4ac0-91c2-6b02e3177fe5",
   "metadata": {
    "execution": {
     "iopub.execute_input": "2022-10-28T16:39:43.088488Z",
     "iopub.status.busy": "2022-10-28T16:39:43.087987Z",
     "iopub.status.idle": "2022-10-28T16:39:43.094107Z",
     "shell.execute_reply": "2022-10-28T16:39:43.093134Z",
     "shell.execute_reply.started": "2022-10-28T16:39:43.088452Z"
    },
    "tags": []
   },
   "outputs": [],
   "source": [
    "cfg = FoldNetCfg(\n",
    "    block = Block,\n",
    "    hidden_dim = 512+128,\n",
    "    num_layers = 60,\n",
    "    kernel_size = 5,\n",
    "    patch_size = 2,\n",
    "    num_classes = 200,\n",
    "    fold_num = 1,\n",
    "    drop_rate = 0.1,\n",
    "    \n",
    "    batch_size = 128,\n",
    "    num_epochs = 100,\n",
    "    learning_rate = 1e-2,\n",
    "    optimizer_method = \"AdamW\",\n",
    "    weight_decay = 0.1,\n",
    "    learning_rate_scheduler= \"LinearWarmupCosineAnnealingLR\",\n",
    "    warmup_epochs = 10,  # 2//5 * num_epoches\n",
    "    warmup_start_lr = 1e-5,\n",
    ")"
   ]
  },
  {
   "cell_type": "code",
   "execution_count": 5,
   "id": "99e6d9c1-6cab-4e87-989e-eecf396c7483",
   "metadata": {
    "execution": {
     "iopub.execute_input": "2022-10-27T13:28:56.932342Z",
     "iopub.status.busy": "2022-10-27T13:28:56.932170Z",
     "iopub.status.idle": "2022-10-27T13:29:04.227498Z",
     "shell.execute_reply": "2022-10-27T13:29:04.226713Z",
     "shell.execute_reply.started": "2022-10-27T13:28:56.932325Z"
    },
    "tags": []
   },
   "outputs": [
    {
     "name": "stdout",
     "output_type": "stream",
     "text": [
      "can not write to csv file.\n",
      "can not write to csv file.\n"
     ]
    }
   ],
   "source": [
    "normalize = torchvision.transforms.Normalize((0.485, 0.456, 0.406), (0.229, 0.224, 0.225))\n",
    "\n",
    "train_transforms = torchvision.transforms.Compose([\n",
    "    # torchvision.transforms.RandomResizedCrop(64, scale=(1.0, 1.0), ratio=(1.0, 1.0)),\n",
    "    torchvision.transforms.RandomHorizontalFlip(p=0.5),\n",
    "    torchvision.transforms.RandAugment(num_ops=2, magnitude=12),\n",
    "    torchvision.transforms.ColorJitter(0, 0, 0),\n",
    "    torchvision.transforms.ToTensor(),\n",
    "    normalize,\n",
    "    # torchvision.transforms.RandomErasing(p=0)\n",
    "])\n",
    "\n",
    "val_transforms = torchvision.transforms.Compose(\n",
    "    [\n",
    "        torchvision.transforms.ToTensor(),\n",
    "        normalize,\n",
    "    ]\n",
    ")\n",
    "\n",
    "\n",
    "\n",
    "tiny_image_net_datamodule = TinyImageNetDataModule(\n",
    "    batch_size=cfg.batch_size, root='/datasets/',\n",
    "    num_workers = 8, pin_memory=True,\n",
    "    train_transforms=train_transforms, \n",
    "    val_transforms=val_transforms)\n",
    "\n"
   ]
  },
  {
   "cell_type": "code",
   "execution_count": 31,
   "id": "d26830e5-aa91-4b78-a2da-c945c28d6b43",
   "metadata": {
    "execution": {
     "iopub.execute_input": "2022-10-28T16:39:44.356336Z",
     "iopub.status.busy": "2022-10-28T16:39:44.355554Z",
     "iopub.status.idle": "2022-10-28T16:39:44.359089Z",
     "shell.execute_reply": "2022-10-28T16:39:44.358376Z",
     "shell.execute_reply.started": "2022-10-28T16:39:44.356311Z"
    },
    "tags": []
   },
   "outputs": [],
   "source": [
    "# input, target = next(iter(tiny_image_net_datamodule.train_dataloader()))\n",
    "# input.shape, target.shape"
   ]
  },
  {
   "cell_type": "code",
   "execution_count": 32,
   "id": "faf558ea-dbd7-4a5a-ad18-243165283fa5",
   "metadata": {
    "execution": {
     "iopub.execute_input": "2022-10-28T16:39:44.594367Z",
     "iopub.status.busy": "2022-10-28T16:39:44.594052Z",
     "iopub.status.idle": "2022-10-28T16:39:44.819988Z",
     "shell.execute_reply": "2022-10-28T16:39:44.819166Z",
     "shell.execute_reply.started": "2022-10-28T16:39:44.594343Z"
    },
    "tags": []
   },
   "outputs": [
    {
     "data": {
      "text/plain": [
       "  | Name   | Type       | Params\n",
       "--------------------------------------\n",
       "0 | layers | ModuleList | 25.8 M\n",
       "1 | embed  | Sequential | 9.6 K \n",
       "2 | digup  | Sequential | 128 K \n",
       "--------------------------------------\n",
       "25.9 M    Trainable params\n",
       "0         Non-trainable params\n",
       "25.9 M    Total params\n",
       "103.617   Total estimated model params size (MB)"
      ]
     },
     "execution_count": 32,
     "metadata": {},
     "output_type": "execute_result"
    }
   ],
   "source": [
    "model = FoldNetRepeat(cfg)\n",
    "\n",
    "pl.utilities.model_summary.summarize(model,max_depth=1)"
   ]
  },
  {
   "cell_type": "code",
   "execution_count": 8,
   "id": "0c9f373b-2e52-44c5-8792-0bc9174172d9",
   "metadata": {
    "execution": {
     "iopub.execute_input": "2022-10-27T13:29:04.405453Z",
     "iopub.status.busy": "2022-10-27T13:29:04.405244Z",
     "iopub.status.idle": "2022-10-27T13:29:04.658827Z",
     "shell.execute_reply": "2022-10-27T13:29:04.658023Z",
     "shell.execute_reply.started": "2022-10-27T13:29:04.405433Z"
    }
   },
   "outputs": [
    {
     "name": "stderr",
     "output_type": "stream",
     "text": [
      "Using 16bit native Automatic Mixed Precision (AMP)\n",
      "GPU available: True (cuda), used: True\n",
      "TPU available: False, using: 0 TPU cores\n",
      "IPU available: False, using: 0 IPUs\n",
      "HPU available: False, using: 0 HPUs\n"
     ]
    }
   ],
   "source": [
    "trainer = pl.Trainer(\n",
    "    # progress_bar_refresh_rate=10,\n",
    "    precision=16,\n",
    "    max_epochs=cfg.num_epochs,\n",
    "    accelerator='gpu',\n",
    "    devices=1,\n",
    "    enable_checkpointing=True,\n",
    "    # detect_anomaly=True,\n",
    "    logger=CSVLogger(\"lightning_logs/\", name=\"convmixer\"),\n",
    "    callbacks=[LearningRateMonitor(logging_interval=\"epoch\")],\n",
    ")    \n"
   ]
  },
  {
   "cell_type": "code",
   "execution_count": 9,
   "id": "d3b3a2bd-bdf1-400f-b36b-4b242d6f83c0",
   "metadata": {
    "execution": {
     "iopub.execute_input": "2022-10-27T13:29:04.661151Z",
     "iopub.status.busy": "2022-10-27T13:29:04.660930Z",
     "iopub.status.idle": "2022-10-27T13:29:04.664566Z",
     "shell.execute_reply": "2022-10-27T13:29:04.664049Z",
     "shell.execute_reply.started": "2022-10-27T13:29:04.661128Z"
    },
    "tags": []
   },
   "outputs": [],
   "source": [
    "# trainer.fit(model, tiny_image_net_datamodule)"
   ]
  },
  {
   "cell_type": "code",
   "execution_count": 10,
   "id": "b2da2aed-f93c-407b-8eaa-ca97b6fe799d",
   "metadata": {
    "execution": {
     "iopub.execute_input": "2022-10-27T13:29:04.665442Z",
     "iopub.status.busy": "2022-10-27T13:29:04.665245Z",
     "iopub.status.idle": "2022-10-27T15:10:20.430087Z",
     "shell.execute_reply": "2022-10-27T15:10:20.429396Z",
     "shell.execute_reply.started": "2022-10-27T13:29:04.665425Z"
    }
   },
   "outputs": [
    {
     "name": "stderr",
     "output_type": "stream",
     "text": [
      "Restoring states from the checkpoint path at /notebooks/lightning_logs/convmixer/version_350/checkpoints/epoch=90-step=47702.ckpt\n"
     ]
    },
    {
     "name": "stdout",
     "output_type": "stream",
     "text": [
      "can not write to csv file.\n",
      "can not write to csv file.\n"
     ]
    },
    {
     "name": "stderr",
     "output_type": "stream",
     "text": [
      "/usr/local/lib/python3.9/dist-packages/pytorch_lightning/callbacks/model_checkpoint.py:345: UserWarning: The dirpath has changed from 'lightning_logs/convmixer/version_350/checkpoints' to 'lightning_logs/convmixer/version_351/checkpoints', therefore `best_model_score`, `kth_best_model_path`, `kth_value`, `last_model_path` and `best_k_models` won't be reloaded. Only `best_model_path` will be reloaded.\n",
      "  warnings.warn(\n",
      "LOCAL_RANK: 0 - CUDA_VISIBLE_DEVICES: [0]\n",
      "\n",
      "  | Name   | Type       | Params\n",
      "--------------------------------------\n",
      "0 | layers | ModuleList | 19.6 M\n",
      "1 | embed  | Sequential | 11.5 K\n",
      "2 | digup  | Sequential | 461 K \n",
      "--------------------------------------\n",
      "20.1 M    Trainable params\n",
      "0         Non-trainable params\n",
      "20.1 M    Total params\n",
      "40.217    Total estimated model params size (MB)\n",
      "Restored all states from the checkpoint file at /notebooks/lightning_logs/convmixer/version_350/checkpoints/epoch=90-step=47702.ckpt\n"
     ]
    },
    {
     "data": {
      "application/vnd.jupyter.widget-view+json": {
       "model_id": "e3546e23189749e6a97c1a59dc9e2ed8",
       "version_major": 2,
       "version_minor": 0
      },
      "text/plain": [
       "Sanity Checking: 0it [00:00, ?it/s]"
      ]
     },
     "metadata": {},
     "output_type": "display_data"
    },
    {
     "data": {
      "application/vnd.jupyter.widget-view+json": {
       "model_id": "99eabec3955e489ebc1778ec331776ce",
       "version_major": 2,
       "version_minor": 0
      },
      "text/plain": [
       "Training: 782it [00:00, ?it/s]"
      ]
     },
     "metadata": {},
     "output_type": "display_data"
    },
    {
     "data": {
      "application/vnd.jupyter.widget-view+json": {
       "model_id": "8ff53328ddf64b8fb60d737fdc7d1e68",
       "version_major": 2,
       "version_minor": 0
      },
      "text/plain": [
       "Validation: 0it [00:00, ?it/s]"
      ]
     },
     "metadata": {},
     "output_type": "display_data"
    },
    {
     "data": {
      "application/vnd.jupyter.widget-view+json": {
       "model_id": "79a0b4b8fbfc42e9a119b0e9d0ab9a82",
       "version_major": 2,
       "version_minor": 0
      },
      "text/plain": [
       "Validation: 0it [00:00, ?it/s]"
      ]
     },
     "metadata": {},
     "output_type": "display_data"
    },
    {
     "data": {
      "application/vnd.jupyter.widget-view+json": {
       "model_id": "33809ef35e244a82819d96d03b3efa06",
       "version_major": 2,
       "version_minor": 0
      },
      "text/plain": [
       "Validation: 0it [00:00, ?it/s]"
      ]
     },
     "metadata": {},
     "output_type": "display_data"
    },
    {
     "data": {
      "application/vnd.jupyter.widget-view+json": {
       "model_id": "37b4200b63034f36b9e23663cde0184e",
       "version_major": 2,
       "version_minor": 0
      },
      "text/plain": [
       "Validation: 0it [00:00, ?it/s]"
      ]
     },
     "metadata": {},
     "output_type": "display_data"
    },
    {
     "data": {
      "application/vnd.jupyter.widget-view+json": {
       "model_id": "1e2dc5c1e1a94d74a5c01214c456045c",
       "version_major": 2,
       "version_minor": 0
      },
      "text/plain": [
       "Validation: 0it [00:00, ?it/s]"
      ]
     },
     "metadata": {},
     "output_type": "display_data"
    },
    {
     "data": {
      "application/vnd.jupyter.widget-view+json": {
       "model_id": "a408046e355748a1a8a8ae933cee68ce",
       "version_major": 2,
       "version_minor": 0
      },
      "text/plain": [
       "Validation: 0it [00:00, ?it/s]"
      ]
     },
     "metadata": {},
     "output_type": "display_data"
    },
    {
     "data": {
      "application/vnd.jupyter.widget-view+json": {
       "model_id": "e993c284b28c4814a5e416d3cbad0ba7",
       "version_major": 2,
       "version_minor": 0
      },
      "text/plain": [
       "Validation: 0it [00:00, ?it/s]"
      ]
     },
     "metadata": {},
     "output_type": "display_data"
    },
    {
     "data": {
      "application/vnd.jupyter.widget-view+json": {
       "model_id": "f5a0b9298aad4a899913e90a745dea71",
       "version_major": 2,
       "version_minor": 0
      },
      "text/plain": [
       "Validation: 0it [00:00, ?it/s]"
      ]
     },
     "metadata": {},
     "output_type": "display_data"
    },
    {
     "data": {
      "application/vnd.jupyter.widget-view+json": {
       "model_id": "a028d9e32be04051b6989affbd365009",
       "version_major": 2,
       "version_minor": 0
      },
      "text/plain": [
       "Validation: 0it [00:00, ?it/s]"
      ]
     },
     "metadata": {},
     "output_type": "display_data"
    },
    {
     "name": "stderr",
     "output_type": "stream",
     "text": [
      "`Trainer.fit` stopped: `max_epochs=100` reached.\n"
     ]
    }
   ],
   "source": [
    "trainer.fit(model, \n",
    "            datamodule = tiny_image_net_datamodule,\n",
    "            ckpt_path = \"/notebooks/lightning_logs/convmixer/version_350/checkpoints/epoch=90-step=47702.ckpt\",\n",
    "           )\n"
   ]
  },
  {
   "cell_type": "code",
   "execution_count": null,
   "id": "e4240eab-b1a1-4e0b-8938-fc2a6c8d492d",
   "metadata": {},
   "outputs": [],
   "source": []
  }
 ],
 "metadata": {
  "kernelspec": {
   "display_name": "Python 3 (ipykernel)",
   "language": "python",
   "name": "python3"
  },
  "language_info": {
   "codemirror_mode": {
    "name": "ipython",
    "version": 3
   },
   "file_extension": ".py",
   "mimetype": "text/x-python",
   "name": "python",
   "nbconvert_exporter": "python",
   "pygments_lexer": "ipython3",
   "version": "3.9.13"
  },
  "toc-showtags": false
 },
 "nbformat": 4,
 "nbformat_minor": 5
}
