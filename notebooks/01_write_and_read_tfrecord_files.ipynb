{
 "cells": [
  {
   "cell_type": "code",
   "execution_count": 80,
   "id": "f82c6a43",
   "metadata": {},
   "outputs": [],
   "source": [
    "import tensorflow as tf\n",
    "\n",
    "import os\n",
    "import glob\n",
    "\n",
    "from typing import List, Optional"
   ]
  },
  {
   "cell_type": "code",
   "execution_count": 184,
   "id": "18c1f1ef",
   "metadata": {},
   "outputs": [],
   "source": [
    "def get_all_files_with_specific_filetypes_in_a_directory(directory: str, filetypes: List[str]=None):\n",
    "    if not filetypes:\n",
    "        filetypes = [\"jsonl.zst\", \"txt\", \"xz\", \"tar.gz\"]\n",
    "    \n",
    "    files_with_specific_filetypes = []\n",
    "    for filetype in filetypes:\n",
    "        files_with_specific_filetypes.extend(glob.glob(directory + f\"*.{filetype}\"))\n",
    "        \n",
    "    return files_with_specific_filetypes"
   ]
  },
  {
   "cell_type": "code",
   "execution_count": 209,
   "id": "2f40c5e0",
   "metadata": {},
   "outputs": [],
   "source": [
    "directory = \"openwebtext2/\"\n",
    "files_with_jsonl_zst_filetype = get_all_files_with_specific_filetypes_in_a_directory(directory, [\"jsonl.zst\"])"
   ]
  },
  {
   "cell_type": "code",
   "execution_count": 222,
   "id": "9e3cb345",
   "metadata": {},
   "outputs": [
    {
     "data": {
      "text/plain": [
       "159"
      ]
     },
     "execution_count": 222,
     "metadata": {},
     "output_type": "execute_result"
    }
   ],
   "source": [
    "directory = \"tfrecords/\"\n",
    "files_with_tfrecords_filetype = get_all_files_with_specific_filetypes_in_a_directory(directory, [\"tfrecords\"])\n",
    "len(files_with_tfrecords_filetype)"
   ]
  },
  {
   "cell_type": "code",
   "execution_count": 223,
   "id": "f66aef78",
   "metadata": {},
   "outputs": [],
   "source": [
    "tfrecords_dataset = tf.data.TFRecordDataset(files_with_tfrecords_filetype, num_parallel_reads=tf.data.AUTOTUNE)"
   ]
  },
  {
   "cell_type": "code",
   "execution_count": 218,
   "id": "77a607df",
   "metadata": {},
   "outputs": [],
   "source": [
    "batch_size = 2"
   ]
  },
  {
   "cell_type": "code",
   "execution_count": 224,
   "id": "15e55b68",
   "metadata": {},
   "outputs": [],
   "source": [
    "tfrecords_dataset = tfrecords_dataset.map(decode_fn, num_parallel_calls=tf.data.AUTOTUNE)"
   ]
  },
  {
   "cell_type": "code",
   "execution_count": 225,
   "id": "891d0f8e",
   "metadata": {},
   "outputs": [],
   "source": [
    "tfrecords_dataset = tfrecords_dataset.batch(batch_size, drop_remainder=True)  # batch must be *AFTER* map"
   ]
  },
  {
   "cell_type": "code",
   "execution_count": 227,
   "id": "e8a33148",
   "metadata": {},
   "outputs": [],
   "source": [
    "tfrecords_dataset = tfrecords_dataset.prefetch(buffer_size=tf.data.AUTOTUNE)"
   ]
  },
  {
   "cell_type": "code",
   "execution_count": 240,
   "id": "b687bff8",
   "metadata": {},
   "outputs": [
    {
     "data": {
      "text/plain": [
       "True"
      ]
     },
     "execution_count": 240,
     "metadata": {},
     "output_type": "execute_result"
    }
   ],
   "source": [
    "type(tfrecords_dataset.as_numpy_iterator().next()['text']) == numpy.ndarray"
   ]
  },
  {
   "cell_type": "code",
   "execution_count": 231,
   "id": "60d26c90",
   "metadata": {},
   "outputs": [
    {
     "name": "stdout",
     "output_type": "stream",
     "text": [
      "<class 'numpy.ndarray'> (2, 1024)\n",
      "<class 'numpy.ndarray'> (2, 1024)\n",
      "<class 'numpy.ndarray'> (2, 1024)\n"
     ]
    }
   ],
   "source": [
    "for i, batch in enumerate(tfrecords_dataset.as_numpy_iterator()):\n",
    "    print(type(batch[\"text\"]), batch[\"text\"].shape)\n",
    "    if i>=2: break"
   ]
  },
  {
   "cell_type": "code",
   "execution_count": 113,
   "id": "be6672c4",
   "metadata": {},
   "outputs": [],
   "source": [
    "import tempfile\n",
    "import numpy as np"
   ]
  },
  {
   "cell_type": "code",
   "execution_count": 138,
   "id": "415c3078",
   "metadata": {},
   "outputs": [],
   "source": [
    "example_path = os.path.join(tempfile.gettempdir(), \"example.tfrecords\")"
   ]
  },
  {
   "cell_type": "code",
   "execution_count": 149,
   "id": "0531d9ff",
   "metadata": {},
   "outputs": [
    {
     "name": "stdout",
     "output_type": "stream",
     "text": [
      "[1024, 1024, 1024]\n"
     ]
    }
   ],
   "source": [
    "print([len(i) for i in splitted_chunks])"
   ]
  },
  {
   "cell_type": "code",
   "execution_count": 220,
   "id": "7d635d74",
   "metadata": {},
   "outputs": [],
   "source": [
    "# read the data back out\n",
    "def decode_fn(record_bytes):\n",
    "    return tf.io.parse_single_example(\n",
    "        record_bytes,\n",
    "\n",
    "        {\n",
    "            \"text\": tf.io.FixedLenFeature((chunk_size,), dtype=tf.int64)\n",
    "        }\n",
    "    )"
   ]
  },
  {
   "cell_type": "code",
   "execution_count": null,
   "id": "4794064a",
   "metadata": {
    "scrolled": false
   },
   "outputs": [],
   "source": [
    "tfrecords_file_name = f\"tfrecords/openwebtext2_0_{num_of_chunks_per_file}.tfrecords\"\n",
    "\n",
    "for batch in tf.data.TFRecordDataset([tfrecords_file_name]).map(decode_fn):\n",
    "    print((batch))"
   ]
  },
  {
   "cell_type": "code",
   "execution_count": null,
   "id": "a1b8fa4d",
   "metadata": {},
   "outputs": [],
   "source": []
  },
  {
   "cell_type": "code",
   "execution_count": 8,
   "id": "0702a412",
   "metadata": {},
   "outputs": [],
   "source": [
    "from tokenizers import Tokenizer\n",
    "from transformers import GPT2TokenizerFast"
   ]
  },
  {
   "cell_type": "code",
   "execution_count": 9,
   "id": "406cef3f",
   "metadata": {},
   "outputs": [],
   "source": [
    "def construct_gpt2_tokenizer():\n",
    "    return GPT2TokenizerFast.from_pretrained('gpt2')"
   ]
  },
  {
   "cell_type": "code",
   "execution_count": 10,
   "id": "788df33c",
   "metadata": {},
   "outputs": [],
   "source": [
    "tokenizer = construct_gpt2_tokenizer()"
   ]
  },
  {
   "cell_type": "code",
   "execution_count": 12,
   "id": "48c69ce3",
   "metadata": {},
   "outputs": [],
   "source": [
    "from lm_dataformat import Reader"
   ]
  },
  {
   "cell_type": "code",
   "execution_count": 14,
   "id": "2c014704",
   "metadata": {},
   "outputs": [],
   "source": []
  },
  {
   "cell_type": "code",
   "execution_count": 18,
   "id": "2bd4c7b3",
   "metadata": {},
   "outputs": [
    {
     "data": {
      "text/plain": [
       "'openwebtext2\\\\2005-06.jsonl.zst'"
      ]
     },
     "execution_count": 18,
     "metadata": {},
     "output_type": "execute_result"
    }
   ],
   "source": [
    "file_with_jsonl_zst_filetype"
   ]
  },
  {
   "cell_type": "code",
   "execution_count": 55,
   "id": "a36171b7",
   "metadata": {},
   "outputs": [],
   "source": [
    "def tokenize(doc: str, token_that_separate_docs: int) -> List[int]:\n",
    "    tokenized_doc = tokenizer.encode(doc)\n",
    "    tokenized_doc.append(token_that_separate_docs)\n",
    "    return tokenized_doc"
   ]
  },
  {
   "cell_type": "code",
   "execution_count": 75,
   "id": "570ea66e",
   "metadata": {},
   "outputs": [],
   "source": [
    "def split_tokenized_doc_into_chunks(tokenized_doc: List[int], chunk_size: int) -> List[List[int]]:\n",
    "    # the last chunk may be less than the chunk size\n",
    "    splitted_chunks = [tokenized_doc[i:i + chunk_size] for i in range(0, len(tokenized_doc), chunk_size)]\n",
    "    return splitted_chunks"
   ]
  },
  {
   "cell_type": "code",
   "execution_count": 188,
   "id": "364fd987",
   "metadata": {},
   "outputs": [],
   "source": [
    "token_that_separate_docs = 50256\n",
    "chunk_size = 1024\n",
    "minimized_chunk_size = 128\n",
    "num_of_chunks_per_file = 100000"
   ]
  },
  {
   "cell_type": "code",
   "execution_count": 189,
   "id": "55a78328",
   "metadata": {},
   "outputs": [
    {
     "data": {
      "text/plain": [
       "[1024, 1024, 496]"
      ]
     },
     "execution_count": 189,
     "metadata": {},
     "output_type": "execute_result"
    }
   ],
   "source": [
    "[len(i) for i in split_tokenized_doc_into_chunks(tokenized_doc, chunk_size)]"
   ]
  },
  {
   "cell_type": "code",
   "execution_count": 190,
   "id": "f81325fc",
   "metadata": {},
   "outputs": [],
   "source": [
    "def prepend_the_last_chunk_to_next_doc_or_discard_it(last_chunk: List[int], minimized_chunk_size: int) -> List[int]:\n",
    "    if len(last_chunk) >= minimized_chunk_size:\n",
    "        return last_chunk\n",
    "    return []"
   ]
  },
  {
   "cell_type": "code",
   "execution_count": 96,
   "id": "4f09d162",
   "metadata": {},
   "outputs": [],
   "source": [
    "last_chunk = [1, 2] # splitted_chunks.pop(-1)"
   ]
  },
  {
   "cell_type": "code",
   "execution_count": 97,
   "id": "9773b62c",
   "metadata": {},
   "outputs": [],
   "source": [
    "prepended_data = prepend_the_last_chunk_to_next_doc_or_discard_it(last_chunk, minimized_chunk_size)"
   ]
  },
  {
   "cell_type": "code",
   "execution_count": 157,
   "id": "d839aa19",
   "metadata": {},
   "outputs": [],
   "source": [
    "Chunk = List[int]"
   ]
  },
  {
   "cell_type": "code",
   "execution_count": 170,
   "id": "ceeaccf9",
   "metadata": {},
   "outputs": [],
   "source": []
  },
  {
   "cell_type": "code",
   "execution_count": 171,
   "id": "2012fc54",
   "metadata": {},
   "outputs": [],
   "source": [
    "def write_chunks_to_tfrecords_file(chunks: List[Chunk], tfrecords_file_index: int, num_of_chunks_per_file: int):\n",
    "    tfrecords_file_name = f\"tfrecords/openwebtext2_{tfrecords_file_index}_{num_of_chunks_per_file}.tfrecords\"\n",
    "    \n",
    "    with tf.io.TFRecordWriter(tfrecords_file_name) as file_writer:\n",
    "        for chunk in chunks:\n",
    "            record_bytes = tf.train.Example(features = tf.train.Features(feature={\n",
    "                \"text\": tf.train.Feature(int64_list=tf.train.Int64List(value=chunk))\n",
    "            })).SerializeToString()\n",
    "            file_writer.write(record_bytes)"
   ]
  },
  {
   "cell_type": "code",
   "execution_count": null,
   "id": "b03103a1",
   "metadata": {},
   "outputs": [],
   "source": [
    "chunks_to_be_written: List[Chunk] = []\n",
    "prepended_data = []\n",
    "tfrecords_file_index = 0\n"
   ]
  },
  {
   "cell_type": "code",
   "execution_count": 203,
   "id": "26ecc896",
   "metadata": {},
   "outputs": [
    {
     "name": "stdout",
     "output_type": "stream",
     "text": [
      "50\n",
      "51\n",
      "52\n",
      "53\n",
      "54\n",
      "55\n",
      "56\n",
      "57\n",
      "58\n",
      "59\n",
      "60\n",
      "61\n",
      "62\n",
      "63\n",
      "64\n",
      "65\n",
      "66\n",
      "67\n",
      "68\n",
      "69\n",
      "70\n",
      "71\n",
      "72\n",
      "73\n",
      "74\n",
      "75\n",
      "76\n",
      "77\n",
      "78\n",
      "79\n",
      "80\n",
      "81\n",
      "82\n",
      "83\n",
      "84\n",
      "85\n",
      "86\n",
      "87\n",
      "88\n",
      "89\n",
      "90\n",
      "91\n",
      "92\n",
      "93\n",
      "94\n",
      "95\n",
      "96\n",
      "97\n",
      "98\n",
      "99\n",
      "100\n",
      "101\n",
      "102\n",
      "103\n",
      "104\n",
      "105\n",
      "106\n",
      "107\n",
      "108\n",
      "109\n",
      "110\n",
      "111\n",
      "112\n",
      "113\n",
      "114\n",
      "115\n",
      "116\n",
      "117\n",
      "118\n",
      "119\n",
      "120\n",
      "121\n",
      "122\n",
      "123\n",
      "124\n",
      "125\n",
      "126\n",
      "127\n",
      "128\n",
      "129\n",
      "130\n",
      "131\n",
      "132\n",
      "133\n",
      "134\n",
      "135\n",
      "136\n",
      "137\n",
      "138\n",
      "139\n",
      "140\n",
      "141\n",
      "142\n",
      "143\n",
      "144\n",
      "145\n",
      "146\n",
      "147\n",
      "148\n",
      "149\n",
      "150\n",
      "151\n",
      "152\n",
      "153\n",
      "154\n",
      "155\n",
      "156\n",
      "157\n",
      "158\n",
      "159\n"
     ]
    }
   ],
   "source": [
    "\n",
    "for file_with_jsonl_zst_filetype in files_with_jsonl_zst_filetype:\n",
    "    reader = Reader(file_with_jsonl_zst_filetype)\n",
    "\n",
    "    for doc in reader.stream_data(threaded=False):\n",
    "        tokenized_doc = tokenize(doc, token_that_separate_docs)\n",
    "        tokenized_doc += prepended_data\n",
    "        splitted_chunks = split_tokenized_doc_into_chunks(tokenized_doc, chunk_size)\n",
    "        last_chunk = splitted_chunks.pop(-1)\n",
    "        prepended_data = prepend_the_last_chunk_to_next_doc_or_discard_it(last_chunk, minimized_chunk_size)\n",
    "\n",
    "        chunks_to_be_written.extend(splitted_chunks)\n",
    "        if len(chunks_to_be_written) >= num_of_chunks_per_file:\n",
    "            write_chunks_to_tfrecords_file(chunks_to_be_written[:num_of_chunks_per_file], tfrecords_file_index, num_of_chunks_per_file)\n",
    "            tfrecords_file_index += 1\n",
    "            chunks_to_be_written = chunks_to_be_written[num_of_chunks_per_file:]\n",
    "            print(tfrecords_file_index)"
   ]
  },
  {
   "cell_type": "code",
   "execution_count": 204,
   "id": "a7cc25bd",
   "metadata": {},
   "outputs": [
    {
     "data": {
      "text/plain": [
       "(0, 8815, 159)"
      ]
     },
     "execution_count": 204,
     "metadata": {},
     "output_type": "execute_result"
    }
   ],
   "source": [
    "len(prepended_data), len(chunks_to_be_written), tfrecords_file_index"
   ]
  },
  {
   "cell_type": "code",
   "execution_count": null,
   "id": "bfa12db9",
   "metadata": {},
   "outputs": [],
   "source": [
    "def tfrecord_parse(one_tfrecord):\n",
    "    "
   ]
  },
  {
   "cell_type": "code",
   "execution_count": 21,
   "id": "1e2dc81c",
   "metadata": {
    "collapsed": true
   },
   "outputs": [
    {
     "data": {
      "text/plain": [
       "[b'\\n\\xe1\\x0f\\n\\xde\\x0f\\n\\x04text\\x12\\xd5\\x0f\\x1a\\xd2\\x0f\\n\\xcf\\x0f\\xc7\\xe6\\x01\\xb1(\\x9f\\x02\\xaf\\x07\\xfd\\xab\\x01\\xbb\\n\\xb7\\x97\\x01\\x83 \\x9f\\x02\\xb4T\\xc2\\x05\\xd7\\x03\\r2\\r\\x94/\\xd2\\x02\\xe7\\xae\\x01\\xa2\\x1a\\x804\\x9aK\\xfe\\x1a\\x81\\x08\\xf5\\x02\\xb1(\\xc2\\x05\\xd4\\x06\\xaaY\\xa0\\x03\\xec\\x0c\\xe3\\x02\\x81\\x02\\xed&\\xf1\\x04\\x86\\x02\\xb1\\'\\r\\xb5\\xe8\\x01\\xe1Z\\xf5d\\x19\\xa7\\xc8\\x01\\xaf\\x07\\xfd\\xab\\x01\\x94/\\xdb+\\xe0\\x1e\\xb2\\x08\\x9c\\x02\\xf5/\\xad\\x17\\xdb+\\xe6\\'\\x9e\\x03\\x81\\x02\\x98\\x12\\xc9\\x02\\xcd\\x96\\x01\\xdb+\\xd8E\\xa2\\x19\\x81\\x02\\x86-\\x9f\\x02\\xcas\\x1e\\xdb+\\xf5\\xa6\\x01\\x19\\xe1W\\xd0F\\xc9\\x02\\x9d\\xb6\\x01\\xd0\\x81\\x01\\x9c\\x03\\x0c\\xa9,\\xb2 \\xa3A\\xf1\\x08\\xd6$\\xaf\\x07\\xfd\\xab\\x01\\xb2H\\x93N\\x0b\\x8e\\x1e\\xa2\\x02\\xbc%\\x89\\x03\\x89\\x03\\xaaj\\xce\\x1a\\xe0[\\xe71\\x9d\\x0c)\\xc12\\xc5\\x16\\x0b\\xaf\\x07\\xfd\\xab\\x01\\xe5\\x02\\xaa\\x90\\x01\\x08\\xe1\\n\\x9c\\x08\\xaf\\x07\\xa5\\x04\\x90\\x02\\xbc\\'\\x0b\\x86\\x02\\xac\\x17\\x9e\\x02\\x81\\x02\\xbc\\x0c\\x0c\\x95\\x0f\\x0c\\xd7\\x05\\x83 \\x9f\\x02\\x86\\x02\\xe7\\xae\\x01\\x9e\\x02\\x99\\x02\\xb2H\\xb7w\\x0b\\xfb\\x04\\xd4\\x03\\xcb\\x04\\xb1(\\x9f\\x02\\x86\\x02\\xbb\\n\\x0b\\x86\\x02\\xee6\\xd2\\x02\\xec\\x0c\\xf8~\\x93\\x04\\xb3\\x1c\\r\\xc6\\xf8\\x02\\xfa\\x17\\x9c\\x02\\xf2\\n\\xa2\\x1a\\x804\\x9aK\\xfe\\x1a\\x81\\x08\\x0b\\x988\\x0b\\x9f\\x02\\xb4T\\xc9\\x02\\x85n\\xc9\\x02\\x9c%\\xca\\x11\\x0b\\xaf\\x07\\xfd\\xab\\x01\\xbf!\\xd6g\\xbd\\x12\\x804\\x9aK\\x82\\xe4\\x01\\x8c\\x02\\x93\\x04\\r\\xda$\\xaf\\x07\\xa5\\x04\\x90\\x02\\xcb\\x08\\x0b\\xe3\\x04\\xe4\\x04\\xbe\\x02\\xfd1\\x93v\\x0b\\x86\\x02\\xf3j\\xd2\\x02\\xaf\\x14\\xcc\\x03\\xde\\x0b\\x81\\x02\\x83 \\x9a\\x15\\xe3\\x02\\xfa\\x06\\xe3\\x02\\xaa\\t\\x9c%\\xca\\x11\\r\\xf5\\x11\\xc6\\x02\\x0b\\x81\\x02\\xbc\\'\\xd2\\x02\\xf7\\x13\\xbe\\x02\\xf0\\x14\\x9c\\x02\\xf2\\n\\x81\\x02\\x83 \\x9f\\x02\\xbc9\\r\\xff\\x02\\xb6\\x15\\xb8\\x08\\x9f\\x02\\xaf\\x07\\xfd\\xab\\x01\\x0b\\x99\\x02\\xec\\x8e\\x01\\xc8\\x16\\x9e\\x02\\x86\\x02\\xe6:\\x9e\\x02\\x86\\x02\\xffb\\x0b\\xbe\\x02\\xf8\\x0e\\xd4Y\\xbf\\x02\\xa2U\\xd2\\x17\\xcb\\x08\\r\\xff\\x02\\xac\\x17\\xf5\\x02\\xb1(\\xfb\\x02\\xa2\\x04\\xea\\x02\\x97\\x02\\rL\\r\\xbf\\x02\\x93v\\x9e\\x02\\x96L\\x9f\\x02\\x86\\x02\\xe7\\xae\\x01\\x9e\\x02\\xb9p\\xe8\\x07D\\x96\\x92\\x01\\xc3\\x02\\x0b\\x99\\x02\\xe0\\t\\x0c\\x95\\x0f\\x0c\\xd7\\x05\\xa6\\x03\\xba\\x9d\\x01\\xd3\\x93\\x01\\x0b\\xb2H\\x0b\\x93\\x04\\xa4b\\xe6_\\xef\\xe5\\x01\\xd6,\\xedH\\x92\\x02\\r\\xee\\x02\\x89\\x17\\xac\\x03\\xc6\\x07\\xd3\\x02\\xd2\\x02\\x81\\x02\\x83 \\xa9\\x04\\xedH\\x92\\x02\\x93\\x04\\r\\xee\\x02\\xc2\\x0e\\xd2\\x02\\x81\\x02\\xfd1\\x93v\\xc6\\x02\\xd3\\x02\\xee \\xc7\\t\\xa2\\x02\\xbe\\x02\\x86\\x17\\x9f\\x02\\x86\\x02\\xe7\\xae\\x01\\x9e\\x02\\xd56\\r\\x96\\x92\\x01\\xc3\\x02\\x8e\\x04\\xbf!\\xaaY\\xab\\x05\\xf1\\x04\\x86\\x02\\xb1\\'\\x9f\\x02\\x9d$\\xdf\\x02\\x86\\x02\\xbb\\n\\r\\xbd\\x02\\xcb\\x08\\x92*\\xa3\\x15\\xb1\\x0f\\x9c\\x02\\x86\\x02\\xbd\\x1c\\x93\\x04\\xfb\\x02\\x86\\x02\\x80\\x05\\xc6\\x02\\x86\\x02\\xbc\\'\\xf5\\x02\\x8b`\\xe3\\x02\\x81\\x02\\xed&\\r\\xa7\\x05\\xb1\\x1a\\xa2\\x04\\x90\\x0f\\xca\\x11\\x9f\\x02\\x86\\x02\\xec\\x0c\\xcd\"\\xc5\\x1e\\xc9\\x02\\x85n\\xa2\\x02\\xf5\\x02\\xed\\x18\\x9f\\x02\\xf5\\x05\\xbf\\x02\\xae\\x1b\\xd5\\x07\\xd1\\x03\\xc8\\x1c\\x0b\\xd0\\xb0\\x02\\x0b\\xe0C\\xff\\x03\\xbc\\x0c\\x0c\\x95\\x0f\\x0c\\xd7\\x05\\xa7\\x1a\\x0b\\xc1\\x03\\x8c\\xf9\\x01\\r\\xea#\\x85\\n\\x0b\\x99\\x02\\xaf\\x07\\xa5\\x04\\x90\\x02\\xbc\\'\\xafE\\xc6\\x02\\xa2\\x1a\\x804\\x9aK\\xfe\\x1a\\x81\\x08\\xca\\x05\\x97\\x03\\xf3\\x18\\xd1\\x03\\xa7\\x1a\\x9f\\x02\\xbc9\\r\\x9b\\xa1\\x01\\x0b\\xa5%\\xa6\\x04\\xf3\\x80\\x01\\x804\\x9aK\\xfe\\x1a\\x81\\x08\\xd2\\x02\\xd3\\n\\x0b\\xbe\\xa1\\x02\\xde\\x05\\x8e\\'\\xa2\\x02\\xcdT\\xf3/\\x91\\x07R\\x9e\\x02\\xc2\\x12\\r\\xd0\\xb0\\x02\\x804\\x9aK\\xfe\\x1a\\x81\\x08\\x93\\x04\\xb3\\x1c\\xdf\\x04\\xed(\\xd2\\x02\\xb3\\x19\\xbe\\x02\\xee\\x02\\xaa/\\xa3\\x02\\xc96\\x8e\\x04\\xee\\x02\\x82\\x08\\xb6\\x9f\\x01\\x8c\\x06\\xe8\\x04\\xed(\\xe9\\x16\\xa3\\n\\xac\\x06\\x9e\\x02\\xd1\\x03\\x94Z\\x9c\\x02\\xac\\x03\\xee6\\x0b\\xa2\\x02\\xc6\\x02\\xac\\x03\\xca\\x05\\xed\\x0c\\xbe\\x02\\x8b\\x04\\x83k\\x8e\\x04\\xee\\x02(\\xc4\\x06\\xd6\\x03\\xa9\\x0e\\x0b\\xa2\\x02\\xba\\x02\\xf8\\x05\\x81\\x02\\xe8\\t\\x9e\\x02\\x95\\x05\\xc4\\x06\\xd6\\x03\\xa9\\x0e\\x0b\\x84\\x05\\xd2\\x02\\xf8\\x07\\xbf\\x02\\xa9\\x04\\xa1\\x05\\x93\\x04\\r\\xee\\x02(\\xcd\\x08\\xcd\\x06\\x92>\\x0b\\xdb\\x03\\xba\\x02\\xe1\\x03\\xd1\\r\\xfe\\x03\\x8e\\x04\\xee\\x02(\\xa7\\x03\\x9c\\x02\\x8c\\x06\\xba\\x02\\xb7\\x0f\\x9f\\x02\\xe8\\x04\\xed(\\x0b\\xba\\x02\\xb7\\x0f\\x9f\\x02\\xe8\\x04\\xa7\\x1a\\xa9\\x04\\xa1\\x05\\x93\\x04\\r\\xee\\x02\\x82\\x08\\xe1\\x03\\xdd\\x03\\xe1\\x03\\xb3\\x02\\x96\\x1d\\x8e\\x04\\xdf\\n\\x93\\x04\\xa1\\x05\\xf2\\x08\\xdf\\x02\\xc1\\x03\\x8c\\xf9\\x01\\xc9\\x02\\xa2\\x04\\x8f\\x12\\xff\\x12\\xb3\\x1c\\xee\\x06\\xc02\\xa5\\x0c\\xc6\\x02\\xec\\x0c\\xa3\\x04\\xfb\\x02\\xdf\\x04\\xd3\\n\\x9c\\x02\\xb3\\x19\\xdf\\x04\\xed(\\r\\x9c\\x12\\xa7\\x1a\\xbe\\x02\\xee\\x02\\xaf\\x99\\x01\\x96\\x1d\\xa9\\x04\\xa1\\x05\\x93\\x04\\r\\xee\\x02(\\xf8\\x05\\xd3\\x02\\xd2\\x02\\xeaO\\x0b\\xa2\\x02\\xd3\\x02\\xee \\xd3\\x02\\xd2\\x02\\xeaO\\x8e\\x04\\xcc=\\xc1\\x05\\xeb\\x12\\xa7\\xb5\\x02\\x06\\xb9p\\xe8\\x07D\\x96\\x92\\x01\\xc3\\x02\\xd2\\x02\\xdd\\xca\\x01\\x0b\\x8bf\\xa0\\x04\\x97\\x0e\\xa0L\\x0b\\x93\\x04\\xdf\\x04\\xe9\\x0c\\xf5\\x02\\xee\\x02\\xa4\\x04\\xc6\\xb0\\x01\\x01\\xa0\\x03\\x86\\x02\\xbc\\'\\xd2\\x02\\xb3\\x19\\r\\xee\\x02\\xf4g\\xe4\\x02\\xcc\\x03\\x8b\\x05\\xd69\\xa2\\x02\\xf3\\x1a\\x8b\\x05\\x89\\x06\\x85:\\xc6\\x02\\xe4\\x03\\x8b\\x04\\xcb\\x80\\x01\\x0b\\xcb\\x80\\x01\\xfd\\x05\\xa9\\x04\\xa1\\x05\\x91\\n\\xa4?\\xa6\\x03\\xb2H\\r\\xff\\x02\\xce%\\x90\\x14\\xd2\\x02\\xac\\x17\\x0b\\xc7\\x19\\x96\\x92\\x01\\xc3\\x02\\x0b\\x93\\x04\\x86\\x02\\xb3\\x19\\xee\\x02\\xc1\\x18\\x914\\xc6\\x02\\x98\\x19\\xf8\\x1c\\x9c\\x02\\x86\\x02\\xb3u\\x8e\\x04\\x85\\x13\\xef\\t\\xbe\\x02\\x86\\x02\\xb3u\\x1e\\xba\\x02\\xc4\\x06\\xd6\\x03\\xf8\\x05\\x0b\\xdb\\x03\\x86\\x02\\xd7(\\x85\\x03\\xa7:\\x90\\x05\\x8f\\n\\xa2\\x02\\xa7:\\x90\\x05\\x8f\\n\\xcd\\x06\\x88\\x17\\xa9\\x04\\x82\\x02\\x91\\n\\xa4?\\xdf\\x87\\x01\\x95\\x9b\\x02\\xe59\\r\\xb9p\\xe8\\x07D\\xd2\\x02\\xf2\\x15\\x0b\\x97\\x96\\x01\\x96\\x92\\x01\\xc3\\x02\\x97\\x0e\\xa0L\\x0b\\x93\\x04\\xff\\x1b\\xa1\\x05\\xd2\\x02\\xf6\\x0c\\x86\\x02\\xa0\\x0b\\xc6\\x0e\\xaa\\x0b\\x9f\\x02\\xb4T\\xe1\\n\\xdb\\x03\\x97\\x03\\xd8{\\xb7\\'\\x9f\\x02\\x86\\x02\\xbb\\n\\xe1\\n\\xa7\\x03\\x85\\x04\\xa9\\n\\x9c\\x02\\xed\\xd2\\x02\\xd5\\x03\\x8e\\x04(\\xa7\\x03\\x85\\x05\\xef$\\xc6\\x02\\xe4\\x03\\xf8\\x05\\x84\\x05\\xa2\\x02\\xfc\\x03\\xa2\\x02\\xaa\\x06\\xa2\\x02\\xea\\x04\\xa2\\x02\\xf1\\x0b\\xa2\\x02\\xbf\\x05\\r\\xba\\x02\\xa7\\x03\\x85\\x05\\xef$\\xa9\\x04\\xd8\\'\\xa0L\\x93\\x04\\xbf\\x02\\xf4K\\xd2\\x02\\x01\\xb8E\\xbe*\\xcb\\xfb\\x01\\xc2\\x0e\\x85\\x03\\xe9\\x04\\xc8\\x04\\xd5\\x1e\\x0b\\xe4\\x07\\x0b\\xc6\\x02\\xf9\\x05\\x9c\\x02\\xb3\\x02\\xf5\\x95\\x01\\xa9\\x04\\xb37\\xa7\\x10\\r\\x97\\x0e\\xa0L\\x91\\n\\xa4?\\xa1\\x05\\xf2\\x08\\xe7\\x1a\\xdf\\x02\\x86\\x02\\xc5\\x1a\\x9e\\x02\\xc1\\x03\\x8c\\xf9\\x01\\x804\\x9aK\\xfe\\x1a\\x81\\x08\\r\\xa7\\x05\\xd2\\x02\\x92\\x04\\x9e\\x02\\x86\\x02\\xaa\\x07\\x95\\x05\\xb2\\x10\\x9c\\x02\\xa7\\x03\\xef\\r\\x96\\x92\\x01\\xc3\\x02\\r\\xdf\\n\\x93\\x04\\x86\\x02\\x804\\x9aK\\xfe\\x1a\\xb8l\\xb0I\\xdf\\x04\\x90\\x05\\xff\\x03\\xd3\\n\\xea\\x04\\xa1\\x05\\xf5\\x02\\x82\\xb2\\x01\\xf7\\x03\\xb3Y\\x94 \\x9f\\x02\\xff\\x03\\xd80\\r\\x97\\x0e\\xa0L\\xf82\\x9c\\x02\\xa9\\x0c\\xeb\\x19\\xa2\\x04\\xff\\x03\\x85 \\x0c\\xeeX\\xfa\\'\\x8e\\x04(\\xfc\\x06\\xba\\x02\\x975\\xd9\\x0b\\xdf\\x02\\x86\\x02\\xe1b\\xc6\\x02\\xe4\\x02\\xdf\\x07\\xa7\\x03\\xe9\\x04\\xd5\\x1e\\xc6\\x02\\xe4\\x02\\xf9\\x05\\x9c\\x02\\xa4S\\xa9\\x04\\xb37\\x93\\x04\\r\\x96\\x92\\x01\\xc3\\x02\\x0b\\x99\\x02\\xbf\\xc5\\x01\\xfe\\x1c\\xa6\\x03\\x86\\x02\\xd3\\x93\\x01\\xa0\\xb5\\x01\\x9e\\x02\\xa6K\\xa6;\\x0b\\xd8^\\xc9\\r\\x86\\x0c\\xc2\\x05\\xa1\\x05\\xd4\\n\\x81\\x02\\xf9\\xcf\\x01\\xdf\\x02\\xc1\\x03\\x8c\\xf9\\x01\\x804\\x9aK\\xfe\\x1a\\x81\\x08\\xa2\\x02\\xb5I\\x8eT\\xcd\\x03\\xa2\\x02\\xf76\\xa8\\x05\\xc4bO\\x91\\x14\\x0b\\xf9H\\x86\\x12\\xa2\\x02\\xe0\\t\\xd4?\\x0b\\xa5%\\x93\\x04\\r\\xdf\\n\\xf5\\x02\\x9f\\x02\\xaf\\x07\\xfd\\xab\\x01\\x0b\\x81\\x02\\xfa\\n\\xe4\\x8c\\x01\\xee6\\x9e\\x02\\xac<\\x0b\\xbe\\x06\\xdd\\'\\x8f\\x05\\xe5\\'\\x9e\\x02\\x9a\\x82\\x01\\x0b\\xdf\\x02\\xa2\\x04\\x8a\\x0e\\xc7\\xe2\\x01\\x9c\\x02\\x98S\\xff\\x03\\xe2\\x11\\xc3\\xa8\\x01\\r\\xff\\x02\\xdb\\x08\\xaa\\x0b\\xa2\\x02\\x81\\x02\\xa8+\\x83 \\x0b\\xb0\\x14\\x0c\\x95\\x0f\\x0c\\xd7\\x05\\xc5\\t\\xda\\x03\\x91A\\x8e3\\xedH\\x92\\x02\\x0b\\xc2\\x0f\\x93o\\x9e\\x02\\x83(\\xa2\\x02\\xf1\\xc4\\x01\\xac\\x1d\\x9c\\x02\\x83(\\r\\x97\\x0e\\xa0L\\xf3\\x08\\xa1\\x05\\xd4\\x03\\xef\\r\\x01\\xcf\\x1e\\xc2\\x12\\x8e}\\x01\\xba+\\xdf\\x04\\xdd&\\xbe\\x02\\xcc\\x14\\r\\xbb.\\xf1p\\xc9\\x02\\x804\\x9aK\\xfe\\x1a\\x81\\x08']"
      ]
     },
     "execution_count": 21,
     "metadata": {},
     "output_type": "execute_result"
    }
   ],
   "source": [
    "list(tfrecords_dataset.take(1).as_numpy_iterator())"
   ]
  },
  {
   "cell_type": "code",
   "execution_count": null,
   "id": "7c4642a1",
   "metadata": {},
   "outputs": [],
   "source": []
  }
 ],
 "metadata": {
  "kernelspec": {
   "display_name": "Python 3",
   "language": "python",
   "name": "python3"
  },
  "language_info": {
   "codemirror_mode": {
    "name": "ipython",
    "version": 3
   },
   "file_extension": ".py",
   "mimetype": "text/x-python",
   "name": "python",
   "nbconvert_exporter": "python",
   "pygments_lexer": "ipython3",
   "version": "3.8.8"
  },
  "toc": {
   "base_numbering": 1,
   "nav_menu": {},
   "number_sections": true,
   "sideBar": true,
   "skip_h1_title": false,
   "title_cell": "Table of Contents",
   "title_sidebar": "Contents",
   "toc_cell": false,
   "toc_position": {},
   "toc_section_display": true,
   "toc_window_display": false
  }
 },
 "nbformat": 4,
 "nbformat_minor": 5
}
