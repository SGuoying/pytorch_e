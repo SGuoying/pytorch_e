{
 "cells": [
  {
   "cell_type": "code",
   "execution_count": 1,
   "metadata": {
    "execution": {
     "iopub.execute_input": "2022-11-01T23:19:10.499144Z",
     "iopub.status.busy": "2022-11-01T23:19:10.498600Z",
     "iopub.status.idle": "2022-11-01T23:19:13.010977Z",
     "shell.execute_reply": "2022-11-01T23:19:13.009885Z",
     "shell.execute_reply.started": "2022-11-01T23:19:10.499081Z"
    }
   },
   "outputs": [],
   "source": [
    "%%capture\n",
    "!pip install ipywidgets"
   ]
  },
  {
   "cell_type": "code",
   "execution_count": 2,
   "metadata": {
    "execution": {
     "iopub.execute_input": "2022-10-31T10:28:44.872715Z",
     "iopub.status.busy": "2022-10-31T10:28:44.872379Z",
     "iopub.status.idle": "2022-10-31T10:28:44.876497Z",
     "shell.execute_reply": "2022-10-31T10:28:44.875871Z",
     "shell.execute_reply.started": "2022-10-31T10:28:44.872688Z"
    }
   },
   "outputs": [],
   "source": [
    "# ! wget https://image-net.org/data/ILSVRC/2012/ILSVRC2012_img_val.tar\n",
    "# ! wget https://image-net.org/data/ILSVRC/2012/ILSVRC2012_img_train.tar"
   ]
  },
  {
   "cell_type": "code",
   "execution_count": 2,
   "metadata": {
    "execution": {
     "iopub.execute_input": "2022-11-01T23:19:35.662377Z",
     "iopub.status.busy": "2022-11-01T23:19:35.661774Z",
     "iopub.status.idle": "2022-11-01T23:19:36.469627Z",
     "shell.execute_reply": "2022-11-01T23:19:36.468978Z",
     "shell.execute_reply.started": "2022-11-01T23:19:35.662352Z"
    }
   },
   "outputs": [],
   "source": [
    "import torch\n",
    "\n",
    "from torchvision import datasets"
   ]
  },
  {
   "cell_type": "code",
   "execution_count": 3,
   "metadata": {
    "execution": {
     "iopub.execute_input": "2022-11-01T23:21:11.281279Z",
     "iopub.status.busy": "2022-11-01T23:21:11.280927Z",
     "iopub.status.idle": "2022-11-01T23:21:41.041465Z",
     "shell.execute_reply": "2022-11-01T23:21:41.040662Z",
     "shell.execute_reply.started": "2022-11-01T23:21:11.281257Z"
    }
   },
   "outputs": [],
   "source": [
    "dataset_train = datasets.ImageNet('/notebooks/imagenet/')"
   ]
  },
  {
   "cell_type": "code",
   "execution_count": 4,
   "metadata": {
    "execution": {
     "iopub.execute_input": "2022-11-01T23:21:41.043048Z",
     "iopub.status.busy": "2022-11-01T23:21:41.042822Z",
     "iopub.status.idle": "2022-11-01T23:21:41.051087Z",
     "shell.execute_reply": "2022-11-01T23:21:41.050383Z",
     "shell.execute_reply.started": "2022-11-01T23:21:41.043027Z"
    }
   },
   "outputs": [
    {
     "data": {
      "text/plain": [
       "Dataset ImageNet\n",
       "    Number of datapoints: 1281167\n",
       "    Root location: /notebooks/imagenet/\n",
       "    Split: train"
      ]
     },
     "execution_count": 4,
     "metadata": {},
     "output_type": "execute_result"
    }
   ],
   "source": [
    "dataset_train"
   ]
  },
  {
   "cell_type": "code",
   "execution_count": 5,
   "metadata": {
    "_cell_guid": "b1076dfc-b9ad-4769-8c92-a6c4dae69d19",
    "_uuid": "8f2839f25d086af736a60e9eeb907d3b93b6e0e5",
    "execution": {
     "iopub.execute_input": "2022-11-01T23:22:00.542711Z",
     "iopub.status.busy": "2022-11-01T23:22:00.542076Z",
     "iopub.status.idle": "2022-11-01T23:22:14.564277Z",
     "shell.execute_reply": "2022-11-01T23:22:14.563008Z",
     "shell.execute_reply.started": "2022-11-01T23:22:00.542676Z"
    }
   },
   "outputs": [],
   "source": [
    "%%capture\n",
    "! pip install git+https://github.com/keepsimpler/sunyata\n",
    "! pip install pytorch-lightning\n",
    "! pip install pytorch-lightning-bolts\n",
    "! pip install einops"
   ]
  },
  {
   "cell_type": "code",
   "execution_count": 9,
   "metadata": {
    "execution": {
     "iopub.execute_input": "2022-11-01T23:23:36.209757Z",
     "iopub.status.busy": "2022-11-01T23:23:36.209188Z",
     "iopub.status.idle": "2022-11-01T23:23:39.106287Z",
     "shell.execute_reply": "2022-11-01T23:23:39.105370Z",
     "shell.execute_reply.started": "2022-11-01T23:23:36.209734Z"
    }
   },
   "outputs": [
    {
     "name": "stdout",
     "output_type": "stream",
     "text": [
      "Collecting timm\n",
      "  Downloading timm-0.6.11-py3-none-any.whl (548 kB)\n",
      "\u001b[2K     \u001b[90m━━━━━━━━━━━━━━━━━━━━━━━━━━━━━━━━━━━━━━\u001b[0m \u001b[32m548.7/548.7 kB\u001b[0m \u001b[31m33.6 MB/s\u001b[0m eta \u001b[36m0:00:00\u001b[0m\n",
      "\u001b[?25hRequirement already satisfied: torch>=1.7 in /usr/local/lib/python3.9/dist-packages (from timm) (1.12.0+cu116)\n",
      "Requirement already satisfied: torchvision in /usr/local/lib/python3.9/dist-packages (from timm) (0.13.0+cu116)\n",
      "Requirement already satisfied: pyyaml in /usr/local/lib/python3.9/dist-packages (from timm) (5.4.1)\n",
      "Requirement already satisfied: huggingface-hub in /usr/local/lib/python3.9/dist-packages (from timm) (0.8.1)\n",
      "Requirement already satisfied: typing-extensions in /usr/local/lib/python3.9/dist-packages (from torch>=1.7->timm) (4.3.0)\n",
      "Requirement already satisfied: tqdm in /usr/local/lib/python3.9/dist-packages (from huggingface-hub->timm) (4.64.0)\n",
      "Requirement already satisfied: filelock in /usr/local/lib/python3.9/dist-packages (from huggingface-hub->timm) (3.7.1)\n",
      "Requirement already satisfied: packaging>=20.9 in /usr/local/lib/python3.9/dist-packages (from huggingface-hub->timm) (21.3)\n",
      "Requirement already satisfied: requests in /usr/local/lib/python3.9/dist-packages (from huggingface-hub->timm) (2.28.1)\n",
      "Requirement already satisfied: numpy in /usr/local/lib/python3.9/dist-packages (from torchvision->timm) (1.23.1)\n",
      "Requirement already satisfied: pillow!=8.3.*,>=5.3.0 in /usr/local/lib/python3.9/dist-packages (from torchvision->timm) (9.2.0)\n",
      "Requirement already satisfied: pyparsing!=3.0.5,>=2.0.2 in /usr/local/lib/python3.9/dist-packages (from packaging>=20.9->huggingface-hub->timm) (3.0.9)\n",
      "Requirement already satisfied: idna<4,>=2.5 in /usr/lib/python3/dist-packages (from requests->huggingface-hub->timm) (2.8)\n",
      "Requirement already satisfied: charset-normalizer<3,>=2 in /usr/local/lib/python3.9/dist-packages (from requests->huggingface-hub->timm) (2.1.0)\n",
      "Requirement already satisfied: urllib3<1.27,>=1.21.1 in /usr/local/lib/python3.9/dist-packages (from requests->huggingface-hub->timm) (1.26.10)\n",
      "Requirement already satisfied: certifi>=2017.4.17 in /usr/lib/python3/dist-packages (from requests->huggingface-hub->timm) (2019.11.28)\n",
      "Installing collected packages: timm\n",
      "Successfully installed timm-0.6.11\n",
      "\u001b[33mWARNING: Running pip as the 'root' user can result in broken permissions and conflicting behaviour with the system package manager. It is recommended to use a virtual environment instead: https://pip.pypa.io/warnings/venv\u001b[0m\u001b[33m\n",
      "\u001b[0m"
     ]
    }
   ],
   "source": [
    "! pip install timm"
   ]
  },
  {
   "cell_type": "code",
   "execution_count": 6,
   "metadata": {
    "execution": {
     "iopub.execute_input": "2022-11-01T23:22:18.003578Z",
     "iopub.status.busy": "2022-11-01T23:22:18.002846Z",
     "iopub.status.idle": "2022-11-01T23:22:18.010648Z",
     "shell.execute_reply": "2022-11-01T23:22:18.010074Z",
     "shell.execute_reply.started": "2022-11-01T23:22:18.003548Z"
    }
   },
   "outputs": [
    {
     "data": {
      "text/plain": [
       "('1.12.0+cu116', '0.13.0+cu116')"
      ]
     },
     "execution_count": 6,
     "metadata": {},
     "output_type": "execute_result"
    }
   ],
   "source": [
    "import torch\n",
    "import torchvision\n",
    "torch.__version__, torchvision.__version__"
   ]
  },
  {
   "cell_type": "code",
   "execution_count": 7,
   "metadata": {
    "execution": {
     "iopub.execute_input": "2022-11-01T23:22:31.357778Z",
     "iopub.status.busy": "2022-11-01T23:22:31.357248Z",
     "iopub.status.idle": "2022-11-01T23:22:32.124294Z",
     "shell.execute_reply": "2022-11-01T23:22:32.123523Z",
     "shell.execute_reply.started": "2022-11-01T23:22:31.357756Z"
    }
   },
   "outputs": [],
   "source": [
    "import torch\n",
    "import torch.nn as nn\n",
    "import torch.nn.functional as F\n",
    "from torch.utils.data import DataLoader\n",
    "import torchvision\n",
    "from torchvision import transforms\n",
    "\n",
    "import pytorch_lightning as pl\n",
    "from pytorch_lightning import loggers as pl_loggers\n",
    "from pytorch_lightning.callbacks import LearningRateMonitor\n",
    "\n",
    "from sunyata.pytorch.data.tiny_imagenet import TinyImageNet, TinyImageNetDataModule\n",
    "\n",
    "from sunyata.pytorch.arch.base import BaseModule, Residual\n"
   ]
  },
  {
   "cell_type": "code",
   "execution_count": 36,
   "metadata": {
    "execution": {
     "iopub.execute_input": "2022-11-02T01:54:32.878213Z",
     "iopub.status.busy": "2022-11-02T01:54:32.877339Z",
     "iopub.status.idle": "2022-11-02T01:54:32.881404Z",
     "shell.execute_reply": "2022-11-02T01:54:32.880667Z",
     "shell.execute_reply.started": "2022-11-02T01:54:32.878189Z"
    }
   },
   "outputs": [],
   "source": [
    "from sunyata.pytorch.arch.convnext2 import ConvNext, ConvNextCfg, convnext_tiny"
   ]
  },
  {
   "cell_type": "code",
   "execution_count": null,
   "metadata": {},
   "outputs": [],
   "source": [
    "cfg = ConvNextCfg(\n",
    "    drop_path = 0.1,\n",
    "    model_ema = True,\n",
    "    model_ema_eval = True,\n",
    "\n",
    "    num_workers = 8,\n",
    ")\n",
    "cfg"
   ]
  },
  {
   "cell_type": "code",
   "execution_count": 46,
   "metadata": {
    "execution": {
     "iopub.execute_input": "2022-11-02T02:28:38.858552Z",
     "iopub.status.busy": "2022-11-02T02:28:38.857871Z",
     "iopub.status.idle": "2022-11-02T02:28:38.863420Z",
     "shell.execute_reply": "2022-11-02T02:28:38.862510Z",
     "shell.execute_reply.started": "2022-11-02T02:28:38.858521Z"
    }
   },
   "outputs": [],
   "source": [
    "from timm.data.constants import \\\n",
    "    IMAGENET_DEFAULT_MEAN, IMAGENET_DEFAULT_STD, IMAGENET_INCEPTION_MEAN, IMAGENET_INCEPTION_STD\n",
    "from timm.data import create_transform\n",
    "from timm.data.mixup import Mixup\n",
    "from timm.models import create_model\n",
    "from timm.models.registry import register_model"
   ]
  },
  {
   "cell_type": "code",
   "execution_count": 19,
   "metadata": {
    "execution": {
     "iopub.execute_input": "2022-11-02T01:07:12.529109Z",
     "iopub.status.busy": "2022-11-02T01:07:12.528702Z",
     "iopub.status.idle": "2022-11-02T01:07:12.533527Z",
     "shell.execute_reply": "2022-11-02T01:07:12.532433Z",
     "shell.execute_reply.started": "2022-11-02T01:07:12.529077Z"
    }
   },
   "outputs": [],
   "source": [
    "mean = IMAGENET_INCEPTION_MEAN if not cfg.imagenet_default_mean_and_std else IMAGENET_DEFAULT_MEAN\n",
    "std = IMAGENET_INCEPTION_STD if not cfg.imagenet_default_mean_and_std else IMAGENET_DEFAULT_STD"
   ]
  },
  {
   "cell_type": "code",
   "execution_count": 20,
   "metadata": {
    "execution": {
     "iopub.execute_input": "2022-11-02T01:09:44.803064Z",
     "iopub.status.busy": "2022-11-02T01:09:44.802772Z",
     "iopub.status.idle": "2022-11-02T01:09:44.807209Z",
     "shell.execute_reply": "2022-11-02T01:09:44.806533Z",
     "shell.execute_reply.started": "2022-11-02T01:09:44.803042Z"
    }
   },
   "outputs": [],
   "source": [
    "transform = create_transform(\n",
    "    input_size = cfg.input_size,\n",
    "    is_training = True,\n",
    "    color_jitter = cfg.color_jitter,\n",
    "    auto_augment = cfg.aa,\n",
    "    interpolation = cfg.train_interpolation,\n",
    "    re_prob = cfg.reprob,\n",
    "    re_mode = cfg.remode,\n",
    "    re_count = cfg.recount,\n",
    "    mean = mean,\n",
    "    std = std,\n",
    ")"
   ]
  },
  {
   "cell_type": "code",
   "execution_count": 21,
   "metadata": {
    "execution": {
     "iopub.execute_input": "2022-11-02T01:24:53.116884Z",
     "iopub.status.busy": "2022-11-02T01:24:53.116538Z",
     "iopub.status.idle": "2022-11-02T01:24:53.121662Z",
     "shell.execute_reply": "2022-11-02T01:24:53.120819Z",
     "shell.execute_reply.started": "2022-11-02T01:24:53.116856Z"
    }
   },
   "outputs": [],
   "source": [
    "resize_im = cfg.input_size > 32\n",
    "if not resize_im:\n",
    "    transform.transforms[0] = transforms.RandomCrop(\n",
    "        cfg.input_size, padding=4\n",
    "    )"
   ]
  },
  {
   "cell_type": "code",
   "execution_count": 25,
   "metadata": {
    "execution": {
     "iopub.execute_input": "2022-11-02T01:30:40.837997Z",
     "iopub.status.busy": "2022-11-02T01:30:40.837685Z",
     "iopub.status.idle": "2022-11-02T01:31:11.214166Z",
     "shell.execute_reply": "2022-11-02T01:31:11.213377Z",
     "shell.execute_reply.started": "2022-11-02T01:30:40.837976Z"
    }
   },
   "outputs": [],
   "source": [
    "dataset_train = datasets.ImageNet('/notebooks/imagenet/', transform=transform)"
   ]
  },
  {
   "cell_type": "code",
   "execution_count": 26,
   "metadata": {
    "execution": {
     "iopub.execute_input": "2022-11-02T01:36:48.679405Z",
     "iopub.status.busy": "2022-11-02T01:36:48.678114Z",
     "iopub.status.idle": "2022-11-02T01:36:48.683811Z",
     "shell.execute_reply": "2022-11-02T01:36:48.682708Z",
     "shell.execute_reply.started": "2022-11-02T01:36:48.679361Z"
    }
   },
   "outputs": [],
   "source": [
    "val_transform = transforms.Compose([\n",
    "    transforms.ToTensor(),\n",
    "    transforms.Normalize(mean, std),\n",
    "])"
   ]
  },
  {
   "cell_type": "code",
   "execution_count": 27,
   "metadata": {
    "execution": {
     "iopub.execute_input": "2022-11-02T01:37:17.025839Z",
     "iopub.status.busy": "2022-11-02T01:37:17.025154Z",
     "iopub.status.idle": "2022-11-02T01:39:37.057170Z",
     "shell.execute_reply": "2022-11-02T01:39:37.056556Z",
     "shell.execute_reply.started": "2022-11-02T01:37:17.025813Z"
    }
   },
   "outputs": [],
   "source": [
    "dataset_val = datasets.ImageNet('/notebooks/imagenet/', split='val', transform=val_transform)"
   ]
  },
  {
   "cell_type": "code",
   "execution_count": 29,
   "metadata": {
    "execution": {
     "iopub.execute_input": "2022-11-02T01:44:37.068812Z",
     "iopub.status.busy": "2022-11-02T01:44:37.068498Z",
     "iopub.status.idle": "2022-11-02T01:44:37.073706Z",
     "shell.execute_reply": "2022-11-02T01:44:37.072674Z",
     "shell.execute_reply.started": "2022-11-02T01:44:37.068788Z"
    }
   },
   "outputs": [],
   "source": [
    "data_loader_train = torch.utils.data.DataLoader(\n",
    "    dataset_train,\n",
    "    batch_size = cfg.batch_size,\n",
    "    num_workers = cfg.num_workers,\n",
    "    pin_memory = cfg.pin_mem,\n",
    "    drop_last = True,\n",
    ")"
   ]
  },
  {
   "cell_type": "code",
   "execution_count": 30,
   "metadata": {
    "execution": {
     "iopub.execute_input": "2022-11-02T01:46:21.413513Z",
     "iopub.status.busy": "2022-11-02T01:46:21.413224Z",
     "iopub.status.idle": "2022-11-02T01:46:21.418551Z",
     "shell.execute_reply": "2022-11-02T01:46:21.417195Z",
     "shell.execute_reply.started": "2022-11-02T01:46:21.413493Z"
    }
   },
   "outputs": [],
   "source": [
    "data_loader_val = torch.utils.data.DataLoader(\n",
    "    dataset_val,\n",
    "    batch_size = int(1.5 * cfg.batch_size),\n",
    "    num_workers = cfg.num_workers,\n",
    "    pin_memory = cfg.pin_mem,\n",
    "    drop_last = False,\n",
    ")"
   ]
  },
  {
   "cell_type": "code",
   "execution_count": 33,
   "metadata": {
    "execution": {
     "iopub.execute_input": "2022-11-02T01:48:52.002611Z",
     "iopub.status.busy": "2022-11-02T01:48:52.001829Z",
     "iopub.status.idle": "2022-11-02T01:48:52.007907Z",
     "shell.execute_reply": "2022-11-02T01:48:52.007259Z",
     "shell.execute_reply.started": "2022-11-02T01:48:52.002578Z"
    }
   },
   "outputs": [
    {
     "data": {
      "text/plain": [
       "True"
      ]
     },
     "execution_count": 33,
     "metadata": {},
     "output_type": "execute_result"
    }
   ],
   "source": [
    "mixup_active = cfg.mixup > 0 or cfg.cutmix > 0. or cfg.cutmix_minmax is not None\n",
    "mixup_active"
   ]
  },
  {
   "cell_type": "code",
   "execution_count": 34,
   "metadata": {
    "execution": {
     "iopub.execute_input": "2022-11-02T01:51:08.959904Z",
     "iopub.status.busy": "2022-11-02T01:51:08.958966Z",
     "iopub.status.idle": "2022-11-02T01:51:08.963773Z",
     "shell.execute_reply": "2022-11-02T01:51:08.962996Z",
     "shell.execute_reply.started": "2022-11-02T01:51:08.959874Z"
    }
   },
   "outputs": [],
   "source": [
    "mixup_fn = Mixup(\n",
    "    mixup_alpha = cfg.mixup, cutmix_alpha = cfg.cutmix,\n",
    "    cutmix_minmax = cfg.cutmix_minmax,\n",
    "    prob = cfg.mixup_prob,\n",
    "    switch_prob = cfg.mixup_switch_prob,\n",
    "    mode = cfg.mixup_mode,\n",
    "    label_smoothing = cfg.smoothing,\n",
    "    num_classes = cfg.nb_classes\n",
    ")"
   ]
  },
  {
   "cell_type": "code",
   "execution_count": 39,
   "metadata": {
    "execution": {
     "iopub.execute_input": "2022-11-02T02:02:37.243204Z",
     "iopub.status.busy": "2022-11-02T02:02:37.242815Z",
     "iopub.status.idle": "2022-11-02T02:02:37.247514Z",
     "shell.execute_reply": "2022-11-02T02:02:37.246548Z",
     "shell.execute_reply.started": "2022-11-02T02:02:37.243176Z"
    }
   },
   "outputs": [],
   "source": [
    "cfg.pretrained = False"
   ]
  },
  {
   "cell_type": "code",
   "execution_count": 47,
   "metadata": {
    "execution": {
     "iopub.execute_input": "2022-11-02T02:28:47.193319Z",
     "iopub.status.busy": "2022-11-02T02:28:47.192968Z",
     "iopub.status.idle": "2022-11-02T02:28:47.197151Z",
     "shell.execute_reply": "2022-11-02T02:28:47.196446Z",
     "shell.execute_reply.started": "2022-11-02T02:28:47.193296Z"
    }
   },
   "outputs": [],
   "source": [
    "@register_model\n",
    "def convnext_tiny(pretrained=False, pretrained_cfg=None, **kwargs):\n",
    "    model = ConvNext(depths=[3, 3, 9, 3], dims=[96, 192, 384, 768], **kwargs)\n",
    "    if pretrained:\n",
    "        raise NotImplementedError\n",
    "    return model\n"
   ]
  },
  {
   "cell_type": "code",
   "execution_count": 48,
   "metadata": {
    "execution": {
     "iopub.execute_input": "2022-11-02T02:28:51.366416Z",
     "iopub.status.busy": "2022-11-02T02:28:51.365752Z",
     "iopub.status.idle": "2022-11-02T02:28:51.717108Z",
     "shell.execute_reply": "2022-11-02T02:28:51.716283Z",
     "shell.execute_reply.started": "2022-11-02T02:28:51.366390Z"
    }
   },
   "outputs": [],
   "source": [
    "model = create_model(\n",
    "    'convnext_tiny',\n",
    "    pretrained=False, \n",
    "    pretrained_cfg=None,\n",
    "    num_classes = cfg.nb_classes,\n",
    "    drop_path_rate = cfg.drop_path,\n",
    "    layer_scale_init_value = cfg.layer_scale_init_value,\n",
    "    head_init_scale = cfg.head_init_scale,\n",
    ")"
   ]
  },
  {
   "cell_type": "code",
   "execution_count": null,
   "metadata": {},
   "outputs": [],
   "source": []
  },
  {
   "cell_type": "code",
   "execution_count": 8,
   "metadata": {
    "execution": {
     "iopub.execute_input": "2022-10-28T12:29:21.967118Z",
     "iopub.status.busy": "2022-10-28T12:29:21.966418Z",
     "iopub.status.idle": "2022-10-28T12:29:22.242180Z",
     "shell.execute_reply": "2022-10-28T12:29:22.241690Z",
     "shell.execute_reply.started": "2022-10-28T12:29:21.967096Z"
    }
   },
   "outputs": [
    {
     "name": "stderr",
     "output_type": "stream",
     "text": [
      "/usr/local/lib/python3.9/dist-packages/torchvision/models/_utils.py:208: UserWarning: The parameter 'pretrained' is deprecated since 0.13 and will be removed in 0.15, please use 'weights' instead.\n",
      "  warnings.warn(\n",
      "/usr/local/lib/python3.9/dist-packages/torchvision/models/_utils.py:223: UserWarning: Arguments other than a weight enum or `None` for 'weights' are deprecated since 0.13 and will be removed in 0.15. The current behavior is equivalent to passing `weights=None`.\n",
      "  warnings.warn(msg)\n"
     ]
    },
    {
     "data": {
      "text/plain": [
       "  | Name  | Type   | Params\n",
       "---------------------------------\n",
       "0 | model | ResNet | 23.4 M\n",
       "---------------------------------\n",
       "23.4 M    Trainable params\n",
       "0         Non-trainable params\n",
       "23.4 M    Total params\n",
       "93.559    Total estimated model params size (MB)"
      ]
     },
     "execution_count": 8,
     "metadata": {},
     "output_type": "execute_result"
    }
   ],
   "source": [
    "model = ResNext50(cfg)\n",
    "\n",
    "pl.utilities.model_summary.summarize(model,max_depth=1)\n",
    "\n"
   ]
  },
  {
   "cell_type": "code",
   "execution_count": 9,
   "metadata": {
    "execution": {
     "iopub.execute_input": "2022-10-28T12:29:22.243552Z",
     "iopub.status.busy": "2022-10-28T12:29:22.242862Z",
     "iopub.status.idle": "2022-10-28T12:29:22.353464Z",
     "shell.execute_reply": "2022-10-28T12:29:22.352748Z",
     "shell.execute_reply.started": "2022-10-28T12:29:22.243531Z"
    }
   },
   "outputs": [
    {
     "name": "stderr",
     "output_type": "stream",
     "text": [
      "Using 16bit native Automatic Mixed Precision (AMP)\n",
      "GPU available: True (cuda), used: True\n",
      "TPU available: False, using: 0 TPU cores\n",
      "IPU available: False, using: 0 IPUs\n",
      "HPU available: False, using: 0 HPUs\n"
     ]
    }
   ],
   "source": [
    "trainer = pl.Trainer(\n",
    "    # progress_bar_refresh_rate=10,\n",
    "    precision=16,\n",
    "    max_epochs=cfg.num_epochs,\n",
    "    accelerator='gpu',\n",
    "    devices=1,\n",
    "    enable_checkpointing=False,\n",
    "    logger=pl_loggers.CSVLogger(\"lightning_logs/\", name=\"convmixer\"),\n",
    "#     callbacks=[LearningRateMonitor(logging_interval=\"step\")],\n",
    ")    \n"
   ]
  },
  {
   "cell_type": "code",
   "execution_count": null,
   "metadata": {
    "execution": {
     "iopub.execute_input": "2022-10-28T12:29:22.356155Z",
     "iopub.status.busy": "2022-10-28T12:29:22.355450Z"
    }
   },
   "outputs": [
    {
     "name": "stdout",
     "output_type": "stream",
     "text": [
      "can not write to csv file.\n",
      "can not write to csv file.\n"
     ]
    },
    {
     "name": "stderr",
     "output_type": "stream",
     "text": [
      "LOCAL_RANK: 0 - CUDA_VISIBLE_DEVICES: [0]\n",
      "/usr/local/lib/python3.9/dist-packages/pl_bolts/utils/warnings.py:30: UserWarning: You want to use `wandb` which is not installed yet, install it with `pip install wandb`.\n",
      "  stdout_func(\n",
      "/usr/local/lib/python3.9/dist-packages/pl_bolts/utils/warnings.py:30: UserWarning: You want to use `gym` which is not installed yet, install it with `pip install gym`.\n",
      "  stdout_func(\n",
      "\n",
      "  | Name  | Type   | Params\n",
      "---------------------------------\n",
      "0 | model | ResNet | 23.4 M\n",
      "---------------------------------\n",
      "23.4 M    Trainable params\n",
      "0         Non-trainable params\n",
      "23.4 M    Total params\n",
      "46.779    Total estimated model params size (MB)\n"
     ]
    },
    {
     "data": {
      "application/vnd.jupyter.widget-view+json": {
       "model_id": "a31c9cc251db4298b4111ebe480dfbc5",
       "version_major": 2,
       "version_minor": 0
      },
      "text/plain": [
       "Sanity Checking: 0it [00:00, ?it/s]"
      ]
     },
     "metadata": {},
     "output_type": "display_data"
    },
    {
     "data": {
      "application/vnd.jupyter.widget-view+json": {
       "model_id": "6e2374c5a0284e7bbb5078d111a43de6",
       "version_major": 2,
       "version_minor": 0
      },
      "text/plain": [
       "Training: 0it [00:00, ?it/s]"
      ]
     },
     "metadata": {},
     "output_type": "display_data"
    },
    {
     "data": {
      "application/vnd.jupyter.widget-view+json": {
       "model_id": "eb992ad77be643c5ab81ee81e8bc9047",
       "version_major": 2,
       "version_minor": 0
      },
      "text/plain": [
       "Validation: 0it [00:00, ?it/s]"
      ]
     },
     "metadata": {},
     "output_type": "display_data"
    },
    {
     "data": {
      "application/vnd.jupyter.widget-view+json": {
       "model_id": "b6cf84c1815d45e587e45d29b40e4d49",
       "version_major": 2,
       "version_minor": 0
      },
      "text/plain": [
       "Validation: 0it [00:00, ?it/s]"
      ]
     },
     "metadata": {},
     "output_type": "display_data"
    },
    {
     "data": {
      "application/vnd.jupyter.widget-view+json": {
       "model_id": "b634866ae1334bff983742fec1940370",
       "version_major": 2,
       "version_minor": 0
      },
      "text/plain": [
       "Validation: 0it [00:00, ?it/s]"
      ]
     },
     "metadata": {},
     "output_type": "display_data"
    },
    {
     "data": {
      "application/vnd.jupyter.widget-view+json": {
       "model_id": "0b0e0dd17811454ea1bae336f4d0d579",
       "version_major": 2,
       "version_minor": 0
      },
      "text/plain": [
       "Validation: 0it [00:00, ?it/s]"
      ]
     },
     "metadata": {},
     "output_type": "display_data"
    },
    {
     "data": {
      "application/vnd.jupyter.widget-view+json": {
       "model_id": "98477ab1bf0148fd8b0b202e3b8bb412",
       "version_major": 2,
       "version_minor": 0
      },
      "text/plain": [
       "Validation: 0it [00:00, ?it/s]"
      ]
     },
     "metadata": {},
     "output_type": "display_data"
    },
    {
     "data": {
      "application/vnd.jupyter.widget-view+json": {
       "model_id": "289c9881233741dc83d685f6f7c360df",
       "version_major": 2,
       "version_minor": 0
      },
      "text/plain": [
       "Validation: 0it [00:00, ?it/s]"
      ]
     },
     "metadata": {},
     "output_type": "display_data"
    },
    {
     "data": {
      "application/vnd.jupyter.widget-view+json": {
       "model_id": "cb8cb3673e1948f29c25e2f92a13eba2",
       "version_major": 2,
       "version_minor": 0
      },
      "text/plain": [
       "Validation: 0it [00:00, ?it/s]"
      ]
     },
     "metadata": {},
     "output_type": "display_data"
    },
    {
     "data": {
      "application/vnd.jupyter.widget-view+json": {
       "model_id": "20d43e339bf24124bcb9b0d7d470eb5a",
       "version_major": 2,
       "version_minor": 0
      },
      "text/plain": [
       "Validation: 0it [00:00, ?it/s]"
      ]
     },
     "metadata": {},
     "output_type": "display_data"
    },
    {
     "data": {
      "application/vnd.jupyter.widget-view+json": {
       "model_id": "01421c62ee054622ae66a4988a016471",
       "version_major": 2,
       "version_minor": 0
      },
      "text/plain": [
       "Validation: 0it [00:00, ?it/s]"
      ]
     },
     "metadata": {},
     "output_type": "display_data"
    },
    {
     "data": {
      "application/vnd.jupyter.widget-view+json": {
       "model_id": "b849c04ebb0f456789dc0500934cfabc",
       "version_major": 2,
       "version_minor": 0
      },
      "text/plain": [
       "Validation: 0it [00:00, ?it/s]"
      ]
     },
     "metadata": {},
     "output_type": "display_data"
    },
    {
     "data": {
      "application/vnd.jupyter.widget-view+json": {
       "model_id": "3f5d974413694598a13c782bd069397e",
       "version_major": 2,
       "version_minor": 0
      },
      "text/plain": [
       "Validation: 0it [00:00, ?it/s]"
      ]
     },
     "metadata": {},
     "output_type": "display_data"
    },
    {
     "name": "stderr",
     "output_type": "stream",
     "text": [
      "IOPub message rate exceeded.\n",
      "The Jupyter server will temporarily stop sending output\n",
      "to the client in order to avoid crashing it.\n",
      "To change this limit, set the config variable\n",
      "`--ServerApp.iopub_msg_rate_limit`.\n",
      "\n",
      "Current values:\n",
      "ServerApp.iopub_msg_rate_limit=1000.0 (msgs/sec)\n",
      "ServerApp.rate_limit_window=3.0 (secs)\n",
      "\n"
     ]
    },
    {
     "data": {
      "application/vnd.jupyter.widget-view+json": {
       "model_id": "026a2d32404446599cb9adf6a4d1ca8e",
       "version_major": 2,
       "version_minor": 0
      },
      "text/plain": [
       "Validation: 0it [00:00, ?it/s]"
      ]
     },
     "metadata": {},
     "output_type": "display_data"
    },
    {
     "data": {
      "application/vnd.jupyter.widget-view+json": {
       "model_id": "4b017d73ed674318b36c3eef74ba5511",
       "version_major": 2,
       "version_minor": 0
      },
      "text/plain": [
       "Validation: 0it [00:00, ?it/s]"
      ]
     },
     "metadata": {},
     "output_type": "display_data"
    },
    {
     "name": "stderr",
     "output_type": "stream",
     "text": [
      "IOPub message rate exceeded.\n",
      "The Jupyter server will temporarily stop sending output\n",
      "to the client in order to avoid crashing it.\n",
      "To change this limit, set the config variable\n",
      "`--ServerApp.iopub_msg_rate_limit`.\n",
      "\n",
      "Current values:\n",
      "ServerApp.iopub_msg_rate_limit=1000.0 (msgs/sec)\n",
      "ServerApp.rate_limit_window=3.0 (secs)\n",
      "\n"
     ]
    },
    {
     "data": {
      "application/vnd.jupyter.widget-view+json": {
       "model_id": "cd4d26734a574586892bd0e7c17e2021",
       "version_major": 2,
       "version_minor": 0
      },
      "text/plain": [
       "Validation: 0it [00:00, ?it/s]"
      ]
     },
     "metadata": {},
     "output_type": "display_data"
    },
    {
     "data": {
      "application/vnd.jupyter.widget-view+json": {
       "model_id": "486e16192c744e4fa58b14cfab2787bf",
       "version_major": 2,
       "version_minor": 0
      },
      "text/plain": [
       "Validation: 0it [00:00, ?it/s]"
      ]
     },
     "metadata": {},
     "output_type": "display_data"
    },
    {
     "data": {
      "application/vnd.jupyter.widget-view+json": {
       "model_id": "42c3a7338da84328b093f3742468266c",
       "version_major": 2,
       "version_minor": 0
      },
      "text/plain": [
       "Validation: 0it [00:00, ?it/s]"
      ]
     },
     "metadata": {},
     "output_type": "display_data"
    },
    {
     "data": {
      "application/vnd.jupyter.widget-view+json": {
       "model_id": "a977ba3dc5414803a05cf499b0a652b6",
       "version_major": 2,
       "version_minor": 0
      },
      "text/plain": [
       "Validation: 0it [00:00, ?it/s]"
      ]
     },
     "metadata": {},
     "output_type": "display_data"
    },
    {
     "data": {
      "application/vnd.jupyter.widget-view+json": {
       "model_id": "abc58acbf4e24e0599ea9d211f470744",
       "version_major": 2,
       "version_minor": 0
      },
      "text/plain": [
       "Validation: 0it [00:00, ?it/s]"
      ]
     },
     "metadata": {},
     "output_type": "display_data"
    },
    {
     "data": {
      "application/vnd.jupyter.widget-view+json": {
       "model_id": "6ef60451522f4b119d821327d938f55a",
       "version_major": 2,
       "version_minor": 0
      },
      "text/plain": [
       "Validation: 0it [00:00, ?it/s]"
      ]
     },
     "metadata": {},
     "output_type": "display_data"
    },
    {
     "data": {
      "application/vnd.jupyter.widget-view+json": {
       "model_id": "e25827c29c894ac8a5c56b3edb38ae59",
       "version_major": 2,
       "version_minor": 0
      },
      "text/plain": [
       "Validation: 0it [00:00, ?it/s]"
      ]
     },
     "metadata": {},
     "output_type": "display_data"
    },
    {
     "data": {
      "application/vnd.jupyter.widget-view+json": {
       "model_id": "1aa322a174b94135aec32ae58a3a5951",
       "version_major": 2,
       "version_minor": 0
      },
      "text/plain": [
       "Validation: 0it [00:00, ?it/s]"
      ]
     },
     "metadata": {},
     "output_type": "display_data"
    },
    {
     "data": {
      "application/vnd.jupyter.widget-view+json": {
       "model_id": "7ad19a91d5bd462482687d1a7cf9ecf4",
       "version_major": 2,
       "version_minor": 0
      },
      "text/plain": [
       "Validation: 0it [00:00, ?it/s]"
      ]
     },
     "metadata": {},
     "output_type": "display_data"
    },
    {
     "data": {
      "application/vnd.jupyter.widget-view+json": {
       "model_id": "ebbcab1a6d304993aacb6cf3a23c66d1",
       "version_major": 2,
       "version_minor": 0
      },
      "text/plain": [
       "Validation: 0it [00:00, ?it/s]"
      ]
     },
     "metadata": {},
     "output_type": "display_data"
    },
    {
     "data": {
      "application/vnd.jupyter.widget-view+json": {
       "model_id": "6f28c314e7e84039af48cdabece86099",
       "version_major": 2,
       "version_minor": 0
      },
      "text/plain": [
       "Validation: 0it [00:00, ?it/s]"
      ]
     },
     "metadata": {},
     "output_type": "display_data"
    },
    {
     "data": {
      "application/vnd.jupyter.widget-view+json": {
       "model_id": "1cf7d97d35df4c6aa6dd2292bd04a5f0",
       "version_major": 2,
       "version_minor": 0
      },
      "text/plain": [
       "Validation: 0it [00:00, ?it/s]"
      ]
     },
     "metadata": {},
     "output_type": "display_data"
    },
    {
     "data": {
      "application/vnd.jupyter.widget-view+json": {
       "model_id": "0a91e7a84de742b58d087474abc44cd1",
       "version_major": 2,
       "version_minor": 0
      },
      "text/plain": [
       "Validation: 0it [00:00, ?it/s]"
      ]
     },
     "metadata": {},
     "output_type": "display_data"
    },
    {
     "data": {
      "application/vnd.jupyter.widget-view+json": {
       "model_id": "eb6bbdcafef24b07a7386fac93964eb0",
       "version_major": 2,
       "version_minor": 0
      },
      "text/plain": [
       "Validation: 0it [00:00, ?it/s]"
      ]
     },
     "metadata": {},
     "output_type": "display_data"
    },
    {
     "data": {
      "application/vnd.jupyter.widget-view+json": {
       "model_id": "5e76fb2780034848a4b947661c51114e",
       "version_major": 2,
       "version_minor": 0
      },
      "text/plain": [
       "Validation: 0it [00:00, ?it/s]"
      ]
     },
     "metadata": {},
     "output_type": "display_data"
    },
    {
     "data": {
      "application/vnd.jupyter.widget-view+json": {
       "model_id": "1a70113655a24aba86834d99b38c1097",
       "version_major": 2,
       "version_minor": 0
      },
      "text/plain": [
       "Validation: 0it [00:00, ?it/s]"
      ]
     },
     "metadata": {},
     "output_type": "display_data"
    },
    {
     "data": {
      "application/vnd.jupyter.widget-view+json": {
       "model_id": "cb676b9e8a784a91a4d9a3816b16fc37",
       "version_major": 2,
       "version_minor": 0
      },
      "text/plain": [
       "Validation: 0it [00:00, ?it/s]"
      ]
     },
     "metadata": {},
     "output_type": "display_data"
    },
    {
     "data": {
      "application/vnd.jupyter.widget-view+json": {
       "model_id": "8fda5ab84dac4b4aa068f3a10bfca3e1",
       "version_major": 2,
       "version_minor": 0
      },
      "text/plain": [
       "Validation: 0it [00:00, ?it/s]"
      ]
     },
     "metadata": {},
     "output_type": "display_data"
    },
    {
     "data": {
      "application/vnd.jupyter.widget-view+json": {
       "model_id": "9def1611d37749348c99d5c54e64c4f1",
       "version_major": 2,
       "version_minor": 0
      },
      "text/plain": [
       "Validation: 0it [00:00, ?it/s]"
      ]
     },
     "metadata": {},
     "output_type": "display_data"
    },
    {
     "data": {
      "application/vnd.jupyter.widget-view+json": {
       "model_id": "11c11487c1c7421988cc060b8a5c46a0",
       "version_major": 2,
       "version_minor": 0
      },
      "text/plain": [
       "Validation: 0it [00:00, ?it/s]"
      ]
     },
     "metadata": {},
     "output_type": "display_data"
    },
    {
     "data": {
      "application/vnd.jupyter.widget-view+json": {
       "model_id": "040d4d2e2a114d0ab8b811f372afa854",
       "version_major": 2,
       "version_minor": 0
      },
      "text/plain": [
       "Validation: 0it [00:00, ?it/s]"
      ]
     },
     "metadata": {},
     "output_type": "display_data"
    },
    {
     "data": {
      "application/vnd.jupyter.widget-view+json": {
       "model_id": "e2b5162958b94d98bc233c11b3aa0092",
       "version_major": 2,
       "version_minor": 0
      },
      "text/plain": [
       "Validation: 0it [00:00, ?it/s]"
      ]
     },
     "metadata": {},
     "output_type": "display_data"
    },
    {
     "data": {
      "application/vnd.jupyter.widget-view+json": {
       "model_id": "e1591a7f624f41c8aa101ec7fdaa1475",
       "version_major": 2,
       "version_minor": 0
      },
      "text/plain": [
       "Validation: 0it [00:00, ?it/s]"
      ]
     },
     "metadata": {},
     "output_type": "display_data"
    },
    {
     "data": {
      "application/vnd.jupyter.widget-view+json": {
       "model_id": "9b922d59cedb4d1c9e5141a656f95b80",
       "version_major": 2,
       "version_minor": 0
      },
      "text/plain": [
       "Validation: 0it [00:00, ?it/s]"
      ]
     },
     "metadata": {},
     "output_type": "display_data"
    },
    {
     "data": {
      "application/vnd.jupyter.widget-view+json": {
       "model_id": "0e89b79acc024270b2fc3c6b7bc72ca2",
       "version_major": 2,
       "version_minor": 0
      },
      "text/plain": [
       "Validation: 0it [00:00, ?it/s]"
      ]
     },
     "metadata": {},
     "output_type": "display_data"
    },
    {
     "data": {
      "application/vnd.jupyter.widget-view+json": {
       "model_id": "8007832c763241e0bd1d9767be800259",
       "version_major": 2,
       "version_minor": 0
      },
      "text/plain": [
       "Validation: 0it [00:00, ?it/s]"
      ]
     },
     "metadata": {},
     "output_type": "display_data"
    },
    {
     "data": {
      "application/vnd.jupyter.widget-view+json": {
       "model_id": "7afa4addfde343259eb21084a9be5717",
       "version_major": 2,
       "version_minor": 0
      },
      "text/plain": [
       "Validation: 0it [00:00, ?it/s]"
      ]
     },
     "metadata": {},
     "output_type": "display_data"
    },
    {
     "data": {
      "application/vnd.jupyter.widget-view+json": {
       "model_id": "148226c3b5d64efcbb2687126ea477ac",
       "version_major": 2,
       "version_minor": 0
      },
      "text/plain": [
       "Validation: 0it [00:00, ?it/s]"
      ]
     },
     "metadata": {},
     "output_type": "display_data"
    },
    {
     "data": {
      "application/vnd.jupyter.widget-view+json": {
       "model_id": "43b941b6984c43beb39878a59502b92b",
       "version_major": 2,
       "version_minor": 0
      },
      "text/plain": [
       "Validation: 0it [00:00, ?it/s]"
      ]
     },
     "metadata": {},
     "output_type": "display_data"
    },
    {
     "data": {
      "application/vnd.jupyter.widget-view+json": {
       "model_id": "1674add8ab7444c082c81ecda804a391",
       "version_major": 2,
       "version_minor": 0
      },
      "text/plain": [
       "Validation: 0it [00:00, ?it/s]"
      ]
     },
     "metadata": {},
     "output_type": "display_data"
    },
    {
     "data": {
      "application/vnd.jupyter.widget-view+json": {
       "model_id": "a39d3082cb84451fa6da4343f92e4c69",
       "version_major": 2,
       "version_minor": 0
      },
      "text/plain": [
       "Validation: 0it [00:00, ?it/s]"
      ]
     },
     "metadata": {},
     "output_type": "display_data"
    },
    {
     "data": {
      "application/vnd.jupyter.widget-view+json": {
       "model_id": "c27d53d1a0314524add1d0eb48de1182",
       "version_major": 2,
       "version_minor": 0
      },
      "text/plain": [
       "Validation: 0it [00:00, ?it/s]"
      ]
     },
     "metadata": {},
     "output_type": "display_data"
    },
    {
     "data": {
      "application/vnd.jupyter.widget-view+json": {
       "model_id": "c441095d57f545c9850f7033c5a83cea",
       "version_major": 2,
       "version_minor": 0
      },
      "text/plain": [
       "Validation: 0it [00:00, ?it/s]"
      ]
     },
     "metadata": {},
     "output_type": "display_data"
    },
    {
     "data": {
      "application/vnd.jupyter.widget-view+json": {
       "model_id": "ccff8b7e71094cf4a6f9f0a922f11345",
       "version_major": 2,
       "version_minor": 0
      },
      "text/plain": [
       "Validation: 0it [00:00, ?it/s]"
      ]
     },
     "metadata": {},
     "output_type": "display_data"
    },
    {
     "data": {
      "application/vnd.jupyter.widget-view+json": {
       "model_id": "1ce44ae1b3624449aa9f193451fdb374",
       "version_major": 2,
       "version_minor": 0
      },
      "text/plain": [
       "Validation: 0it [00:00, ?it/s]"
      ]
     },
     "metadata": {},
     "output_type": "display_data"
    },
    {
     "data": {
      "application/vnd.jupyter.widget-view+json": {
       "model_id": "3a02b5b7c6e74227a26190dc65e835b1",
       "version_major": 2,
       "version_minor": 0
      },
      "text/plain": [
       "Validation: 0it [00:00, ?it/s]"
      ]
     },
     "metadata": {},
     "output_type": "display_data"
    },
    {
     "data": {
      "application/vnd.jupyter.widget-view+json": {
       "model_id": "c8b4568765e245e2b7510d60134b085e",
       "version_major": 2,
       "version_minor": 0
      },
      "text/plain": [
       "Validation: 0it [00:00, ?it/s]"
      ]
     },
     "metadata": {},
     "output_type": "display_data"
    },
    {
     "data": {
      "application/vnd.jupyter.widget-view+json": {
       "model_id": "e2647ddf14a24601b3412347017451d5",
       "version_major": 2,
       "version_minor": 0
      },
      "text/plain": [
       "Validation: 0it [00:00, ?it/s]"
      ]
     },
     "metadata": {},
     "output_type": "display_data"
    },
    {
     "data": {
      "application/vnd.jupyter.widget-view+json": {
       "model_id": "208bf56b43574cbe9a5c7754887a3ece",
       "version_major": 2,
       "version_minor": 0
      },
      "text/plain": [
       "Validation: 0it [00:00, ?it/s]"
      ]
     },
     "metadata": {},
     "output_type": "display_data"
    },
    {
     "data": {
      "application/vnd.jupyter.widget-view+json": {
       "model_id": "41cbc074fe9d485daed87209c316ca32",
       "version_major": 2,
       "version_minor": 0
      },
      "text/plain": [
       "Validation: 0it [00:00, ?it/s]"
      ]
     },
     "metadata": {},
     "output_type": "display_data"
    },
    {
     "data": {
      "application/vnd.jupyter.widget-view+json": {
       "model_id": "22cf0b25b4e1472985b89698040d5bcd",
       "version_major": 2,
       "version_minor": 0
      },
      "text/plain": [
       "Validation: 0it [00:00, ?it/s]"
      ]
     },
     "metadata": {},
     "output_type": "display_data"
    },
    {
     "data": {
      "application/vnd.jupyter.widget-view+json": {
       "model_id": "00bbac04f71e41efbdbbbb50e4e0f4ef",
       "version_major": 2,
       "version_minor": 0
      },
      "text/plain": [
       "Validation: 0it [00:00, ?it/s]"
      ]
     },
     "metadata": {},
     "output_type": "display_data"
    },
    {
     "data": {
      "application/vnd.jupyter.widget-view+json": {
       "model_id": "ffd75d643ab24a1bbb797df1bdbbba24",
       "version_major": 2,
       "version_minor": 0
      },
      "text/plain": [
       "Validation: 0it [00:00, ?it/s]"
      ]
     },
     "metadata": {},
     "output_type": "display_data"
    },
    {
     "data": {
      "application/vnd.jupyter.widget-view+json": {
       "model_id": "404cf8341c7f4f62ab4587a80b80d216",
       "version_major": 2,
       "version_minor": 0
      },
      "text/plain": [
       "Validation: 0it [00:00, ?it/s]"
      ]
     },
     "metadata": {},
     "output_type": "display_data"
    },
    {
     "data": {
      "application/vnd.jupyter.widget-view+json": {
       "model_id": "1edacf9b6d7842d8a4d05a809e1b5888",
       "version_major": 2,
       "version_minor": 0
      },
      "text/plain": [
       "Validation: 0it [00:00, ?it/s]"
      ]
     },
     "metadata": {},
     "output_type": "display_data"
    },
    {
     "data": {
      "application/vnd.jupyter.widget-view+json": {
       "model_id": "bbf11ae51ac74b09a892a48dc3bf0547",
       "version_major": 2,
       "version_minor": 0
      },
      "text/plain": [
       "Validation: 0it [00:00, ?it/s]"
      ]
     },
     "metadata": {},
     "output_type": "display_data"
    },
    {
     "data": {
      "application/vnd.jupyter.widget-view+json": {
       "model_id": "ddf490add58d4bd683c69d4dc31d7a11",
       "version_major": 2,
       "version_minor": 0
      },
      "text/plain": [
       "Validation: 0it [00:00, ?it/s]"
      ]
     },
     "metadata": {},
     "output_type": "display_data"
    },
    {
     "data": {
      "application/vnd.jupyter.widget-view+json": {
       "model_id": "35ab55ae06304fb6ae3f98d41dd74233",
       "version_major": 2,
       "version_minor": 0
      },
      "text/plain": [
       "Validation: 0it [00:00, ?it/s]"
      ]
     },
     "metadata": {},
     "output_type": "display_data"
    },
    {
     "data": {
      "application/vnd.jupyter.widget-view+json": {
       "model_id": "cfccb256029c4ba6a83e8b7addddb440",
       "version_major": 2,
       "version_minor": 0
      },
      "text/plain": [
       "Validation: 0it [00:00, ?it/s]"
      ]
     },
     "metadata": {},
     "output_type": "display_data"
    },
    {
     "data": {
      "application/vnd.jupyter.widget-view+json": {
       "model_id": "6a36dca50c1646819597312f128b6043",
       "version_major": 2,
       "version_minor": 0
      },
      "text/plain": [
       "Validation: 0it [00:00, ?it/s]"
      ]
     },
     "metadata": {},
     "output_type": "display_data"
    },
    {
     "data": {
      "application/vnd.jupyter.widget-view+json": {
       "model_id": "38857b71eb474a4883c26ffcc2da19f1",
       "version_major": 2,
       "version_minor": 0
      },
      "text/plain": [
       "Validation: 0it [00:00, ?it/s]"
      ]
     },
     "metadata": {},
     "output_type": "display_data"
    },
    {
     "data": {
      "application/vnd.jupyter.widget-view+json": {
       "model_id": "8c43945c786148cb84aeeac487fa57f2",
       "version_major": 2,
       "version_minor": 0
      },
      "text/plain": [
       "Validation: 0it [00:00, ?it/s]"
      ]
     },
     "metadata": {},
     "output_type": "display_data"
    },
    {
     "data": {
      "application/vnd.jupyter.widget-view+json": {
       "model_id": "c8a0cbe1a9694a7dbd5302a97acff733",
       "version_major": 2,
       "version_minor": 0
      },
      "text/plain": [
       "Validation: 0it [00:00, ?it/s]"
      ]
     },
     "metadata": {},
     "output_type": "display_data"
    },
    {
     "data": {
      "application/vnd.jupyter.widget-view+json": {
       "model_id": "52450ba35f454319aa12f91e2236fdb8",
       "version_major": 2,
       "version_minor": 0
      },
      "text/plain": [
       "Validation: 0it [00:00, ?it/s]"
      ]
     },
     "metadata": {},
     "output_type": "display_data"
    },
    {
     "data": {
      "application/vnd.jupyter.widget-view+json": {
       "model_id": "e998ecc34c3d4b46924f391ed502e390",
       "version_major": 2,
       "version_minor": 0
      },
      "text/plain": [
       "Validation: 0it [00:00, ?it/s]"
      ]
     },
     "metadata": {},
     "output_type": "display_data"
    },
    {
     "data": {
      "application/vnd.jupyter.widget-view+json": {
       "model_id": "75b82b342f0d4d61bf2d4ea4432d9a3d",
       "version_major": 2,
       "version_minor": 0
      },
      "text/plain": [
       "Validation: 0it [00:00, ?it/s]"
      ]
     },
     "metadata": {},
     "output_type": "display_data"
    },
    {
     "data": {
      "application/vnd.jupyter.widget-view+json": {
       "model_id": "fd57ee56764c4d1fa45160ab2dbe5468",
       "version_major": 2,
       "version_minor": 0
      },
      "text/plain": [
       "Validation: 0it [00:00, ?it/s]"
      ]
     },
     "metadata": {},
     "output_type": "display_data"
    },
    {
     "data": {
      "application/vnd.jupyter.widget-view+json": {
       "model_id": "769f5994e92540f6bf9b0cb7765fa3ed",
       "version_major": 2,
       "version_minor": 0
      },
      "text/plain": [
       "Validation: 0it [00:00, ?it/s]"
      ]
     },
     "metadata": {},
     "output_type": "display_data"
    },
    {
     "data": {
      "application/vnd.jupyter.widget-view+json": {
       "model_id": "f8b3810fe2b74d938803085959d3f4cb",
       "version_major": 2,
       "version_minor": 0
      },
      "text/plain": [
       "Validation: 0it [00:00, ?it/s]"
      ]
     },
     "metadata": {},
     "output_type": "display_data"
    },
    {
     "data": {
      "application/vnd.jupyter.widget-view+json": {
       "model_id": "dbe6ea1169844dd6a85605bb49ac9658",
       "version_major": 2,
       "version_minor": 0
      },
      "text/plain": [
       "Validation: 0it [00:00, ?it/s]"
      ]
     },
     "metadata": {},
     "output_type": "display_data"
    },
    {
     "data": {
      "application/vnd.jupyter.widget-view+json": {
       "model_id": "d4717301dbcc4902afd7f745322e057f",
       "version_major": 2,
       "version_minor": 0
      },
      "text/plain": [
       "Validation: 0it [00:00, ?it/s]"
      ]
     },
     "metadata": {},
     "output_type": "display_data"
    },
    {
     "data": {
      "application/vnd.jupyter.widget-view+json": {
       "model_id": "df0b6c4aba2b4a16af1b5c52f745dfea",
       "version_major": 2,
       "version_minor": 0
      },
      "text/plain": [
       "Validation: 0it [00:00, ?it/s]"
      ]
     },
     "metadata": {},
     "output_type": "display_data"
    },
    {
     "data": {
      "application/vnd.jupyter.widget-view+json": {
       "model_id": "8439b37c3f364f40bf940864c8bfb85d",
       "version_major": 2,
       "version_minor": 0
      },
      "text/plain": [
       "Validation: 0it [00:00, ?it/s]"
      ]
     },
     "metadata": {},
     "output_type": "display_data"
    }
   ],
   "source": [
    "\n",
    "trainer.fit(model, tiny_image_net_datamodule)\n"
   ]
  },
  {
   "cell_type": "code",
   "execution_count": null,
   "metadata": {},
   "outputs": [],
   "source": []
  }
 ],
 "metadata": {
  "kernelspec": {
   "display_name": "Python 3 (ipykernel)",
   "language": "python",
   "name": "python3"
  },
  "language_info": {
   "codemirror_mode": {
    "name": "ipython",
    "version": 3
   },
   "file_extension": ".py",
   "mimetype": "text/x-python",
   "name": "python",
   "nbconvert_exporter": "python",
   "pygments_lexer": "ipython3",
   "version": "3.9.13"
  }
 },
 "nbformat": 4,
 "nbformat_minor": 4
}
