{
 "cells": [
  {
   "cell_type": "code",
   "execution_count": 1,
   "metadata": {
    "execution": {
     "iopub.execute_input": "2022-11-01T23:19:10.499144Z",
     "iopub.status.busy": "2022-11-01T23:19:10.498600Z",
     "iopub.status.idle": "2022-11-01T23:19:13.010977Z",
     "shell.execute_reply": "2022-11-01T23:19:13.009885Z",
     "shell.execute_reply.started": "2022-11-01T23:19:10.499081Z"
    }
   },
   "outputs": [],
   "source": [
    "%%capture\n",
    "!pip install ipywidgets"
   ]
  },
  {
   "cell_type": "code",
   "execution_count": 2,
   "metadata": {
    "execution": {
     "iopub.execute_input": "2022-10-31T10:28:44.872715Z",
     "iopub.status.busy": "2022-10-31T10:28:44.872379Z",
     "iopub.status.idle": "2022-10-31T10:28:44.876497Z",
     "shell.execute_reply": "2022-10-31T10:28:44.875871Z",
     "shell.execute_reply.started": "2022-10-31T10:28:44.872688Z"
    }
   },
   "outputs": [],
   "source": [
    "# ! wget https://image-net.org/data/ILSVRC/2012/ILSVRC2012_img_val.tar\n",
    "# ! wget https://image-net.org/data/ILSVRC/2012/ILSVRC2012_img_train.tar"
   ]
  },
  {
   "cell_type": "code",
   "execution_count": 2,
   "metadata": {
    "execution": {
     "iopub.execute_input": "2022-11-01T23:19:35.662377Z",
     "iopub.status.busy": "2022-11-01T23:19:35.661774Z",
     "iopub.status.idle": "2022-11-01T23:19:36.469627Z",
     "shell.execute_reply": "2022-11-01T23:19:36.468978Z",
     "shell.execute_reply.started": "2022-11-01T23:19:35.662352Z"
    }
   },
   "outputs": [],
   "source": [
    "import torch\n",
    "\n",
    "from torchvision import datasets"
   ]
  },
  {
   "cell_type": "code",
   "execution_count": 3,
   "metadata": {
    "execution": {
     "iopub.execute_input": "2022-11-01T23:21:11.281279Z",
     "iopub.status.busy": "2022-11-01T23:21:11.280927Z",
     "iopub.status.idle": "2022-11-01T23:21:41.041465Z",
     "shell.execute_reply": "2022-11-01T23:21:41.040662Z",
     "shell.execute_reply.started": "2022-11-01T23:21:11.281257Z"
    }
   },
   "outputs": [],
   "source": [
    "dataset_train = datasets.ImageNet('/notebooks/imagenet/')"
   ]
  },
  {
   "cell_type": "code",
   "execution_count": 4,
   "metadata": {
    "execution": {
     "iopub.execute_input": "2022-11-01T23:21:41.043048Z",
     "iopub.status.busy": "2022-11-01T23:21:41.042822Z",
     "iopub.status.idle": "2022-11-01T23:21:41.051087Z",
     "shell.execute_reply": "2022-11-01T23:21:41.050383Z",
     "shell.execute_reply.started": "2022-11-01T23:21:41.043027Z"
    }
   },
   "outputs": [
    {
     "data": {
      "text/plain": [
       "Dataset ImageNet\n",
       "    Number of datapoints: 1281167\n",
       "    Root location: /notebooks/imagenet/\n",
       "    Split: train"
      ]
     },
     "execution_count": 4,
     "metadata": {},
     "output_type": "execute_result"
    }
   ],
   "source": [
    "dataset_train"
   ]
  },
  {
   "cell_type": "code",
   "execution_count": 5,
   "metadata": {
    "_cell_guid": "b1076dfc-b9ad-4769-8c92-a6c4dae69d19",
    "_uuid": "8f2839f25d086af736a60e9eeb907d3b93b6e0e5",
    "execution": {
     "iopub.execute_input": "2022-11-01T23:22:00.542711Z",
     "iopub.status.busy": "2022-11-01T23:22:00.542076Z",
     "iopub.status.idle": "2022-11-01T23:22:14.564277Z",
     "shell.execute_reply": "2022-11-01T23:22:14.563008Z",
     "shell.execute_reply.started": "2022-11-01T23:22:00.542676Z"
    }
   },
   "outputs": [],
   "source": [
    "%%capture\n",
    "! pip install git+https://github.com/keepsimpler/sunyata\n",
    "! pip install pytorch-lightning\n",
    "! pip install pytorch-lightning-bolts\n",
    "! pip install einops"
   ]
  },
  {
   "cell_type": "code",
   "execution_count": null,
   "metadata": {
    "execution": {
     "iopub.execute_input": "2022-11-01T23:23:36.209757Z",
     "iopub.status.busy": "2022-11-01T23:23:36.209188Z",
     "iopub.status.idle": "2022-11-01T23:23:39.106287Z",
     "shell.execute_reply": "2022-11-01T23:23:39.105370Z",
     "shell.execute_reply.started": "2022-11-01T23:23:36.209734Z"
    }
   },
   "outputs": [],
   "source": [
    "! pip install timm"
   ]
  },
  {
   "cell_type": "code",
   "execution_count": 6,
   "metadata": {
    "execution": {
     "iopub.execute_input": "2022-11-01T23:22:18.003578Z",
     "iopub.status.busy": "2022-11-01T23:22:18.002846Z",
     "iopub.status.idle": "2022-11-01T23:22:18.010648Z",
     "shell.execute_reply": "2022-11-01T23:22:18.010074Z",
     "shell.execute_reply.started": "2022-11-01T23:22:18.003548Z"
    }
   },
   "outputs": [
    {
     "data": {
      "text/plain": [
       "('1.12.0+cu116', '0.13.0+cu116')"
      ]
     },
     "execution_count": 6,
     "metadata": {},
     "output_type": "execute_result"
    }
   ],
   "source": [
    "import torch\n",
    "import torchvision\n",
    "torch.__version__, torchvision.__version__"
   ]
  },
  {
   "cell_type": "code",
   "execution_count": 12,
   "metadata": {
    "execution": {
     "iopub.execute_input": "2022-11-01T23:22:31.357778Z",
     "iopub.status.busy": "2022-11-01T23:22:31.357248Z",
     "iopub.status.idle": "2022-11-01T23:22:32.124294Z",
     "shell.execute_reply": "2022-11-01T23:22:32.123523Z",
     "shell.execute_reply.started": "2022-11-01T23:22:31.357756Z"
    }
   },
   "outputs": [
    {
     "name": "stderr",
     "output_type": "stream",
     "text": [
      "<frozen importlib._bootstrap>:219: RuntimeWarning: numpy.ndarray size changed, may indicate binary incompatibility. Expected 80 from C header, got 88 from PyObject\n"
     ]
    }
   ],
   "source": [
    "import torch\n",
    "import torch.nn as nn\n",
    "import torch.nn.functional as F\n",
    "from torch.utils.data import DataLoader\n",
    "import torchvision\n",
    "from torchvision import transforms\n",
    "\n",
    "import pytorch_lightning as pl\n",
    "from pytorch_lightning import loggers as pl_loggers\n",
    "from pytorch_lightning.callbacks import LearningRateMonitor\n",
    "\n",
    "from sunyata.pytorch.data.tiny_imagenet import TinyImageNet, TinyImageNetDataModule\n",
    "\n",
    "from sunyata.pytorch.arch.base import BaseModule, Residual\n"
   ]
  },
  {
   "cell_type": "code",
   "execution_count": 4,
   "metadata": {
    "execution": {
     "iopub.execute_input": "2022-11-02T01:54:32.878213Z",
     "iopub.status.busy": "2022-11-02T01:54:32.877339Z",
     "iopub.status.idle": "2022-11-02T01:54:32.881404Z",
     "shell.execute_reply": "2022-11-02T01:54:32.880667Z",
     "shell.execute_reply.started": "2022-11-02T01:54:32.878189Z"
    }
   },
   "outputs": [],
   "source": [
    "from sunyata.pytorch.arch.convnext2 import ConvNext, ConvNextCfg, convnext_tiny"
   ]
  },
  {
   "cell_type": "code",
   "execution_count": 5,
   "metadata": {},
   "outputs": [
    {
     "data": {
      "text/plain": [
       "ConvNextCfg(batch_size=64, epochs=300, update_freq=1, drop_path=0.1, input_size=224, layer_scale_init_value=1e-06, model_ema=True, model_ema_decay=0.9999, model_ema_force_cpu=False, model_ema_eval=True, opt='adamw', opt_eps=1e-08, opt_betas=None, clip_grad=None, momentum=0.9, weight_decay=0.05, weight_decay_end=None, lr=0.004, layer_decay=1.0, min_lr=1e-06, warmup_epochs=20, warmup_steps=-1, color_jitter=0.4, aa='rand-m9-mstd0.5-incl', smoothing=0.1, train_interpolation='bicubic', crop_pct=None, reprob=0.25, remode='pixel', recount=1, resplit=False, mixup=0.8, cutmix=1.0, cutmix_minmax=None, mixup_prob=1.0, mixup_switch_prob=0.5, mixup_mode='batch', finetune='', head_init_scale=1.0, data_path=None, eval_data_path=None, nb_classes=1000, imagenet_default_mean_and_std=True, data_set='IMNET', output_dir='', log_dir=None, device='cuda', seed=0, resume='', auto_resume=True, save_ckpt=True, save_ckpt_freq=1, save_ckpt_num=3, start_epoch=0, eval=False, dist_eval=True, disable_eval=False, num_workers=8, pin_mem=True)"
      ]
     },
     "execution_count": 5,
     "metadata": {},
     "output_type": "execute_result"
    }
   ],
   "source": [
    "cfg = ConvNextCfg(\n",
    "    drop_path = 0.1,\n",
    "    model_ema = True,\n",
    "    model_ema_eval = True,\n",
    "\n",
    "    num_workers = 8,\n",
    ")\n",
    "cfg"
   ]
  },
  {
   "cell_type": "code",
   "execution_count": 6,
   "metadata": {
    "execution": {
     "iopub.execute_input": "2022-11-02T02:28:38.858552Z",
     "iopub.status.busy": "2022-11-02T02:28:38.857871Z",
     "iopub.status.idle": "2022-11-02T02:28:38.863420Z",
     "shell.execute_reply": "2022-11-02T02:28:38.862510Z",
     "shell.execute_reply.started": "2022-11-02T02:28:38.858521Z"
    }
   },
   "outputs": [],
   "source": [
    "from timm.data.constants import \\\n",
    "    IMAGENET_DEFAULT_MEAN, IMAGENET_DEFAULT_STD, IMAGENET_INCEPTION_MEAN, IMAGENET_INCEPTION_STD\n",
    "from timm.data import create_transform\n",
    "from timm.data.mixup import Mixup\n",
    "from timm.models import create_model\n",
    "from timm.models.registry import register_model\n",
    "from timm.utils import ModelEma"
   ]
  },
  {
   "cell_type": "code",
   "execution_count": 7,
   "metadata": {
    "execution": {
     "iopub.execute_input": "2022-11-02T01:07:12.529109Z",
     "iopub.status.busy": "2022-11-02T01:07:12.528702Z",
     "iopub.status.idle": "2022-11-02T01:07:12.533527Z",
     "shell.execute_reply": "2022-11-02T01:07:12.532433Z",
     "shell.execute_reply.started": "2022-11-02T01:07:12.529077Z"
    }
   },
   "outputs": [],
   "source": [
    "mean = IMAGENET_INCEPTION_MEAN if not cfg.imagenet_default_mean_and_std else IMAGENET_DEFAULT_MEAN\n",
    "std = IMAGENET_INCEPTION_STD if not cfg.imagenet_default_mean_and_std else IMAGENET_DEFAULT_STD"
   ]
  },
  {
   "cell_type": "code",
   "execution_count": 20,
   "metadata": {
    "execution": {
     "iopub.execute_input": "2022-11-02T01:09:44.803064Z",
     "iopub.status.busy": "2022-11-02T01:09:44.802772Z",
     "iopub.status.idle": "2022-11-02T01:09:44.807209Z",
     "shell.execute_reply": "2022-11-02T01:09:44.806533Z",
     "shell.execute_reply.started": "2022-11-02T01:09:44.803042Z"
    }
   },
   "outputs": [],
   "source": [
    "transform = create_transform(\n",
    "    input_size = cfg.input_size,\n",
    "    is_training = True,\n",
    "    color_jitter = cfg.color_jitter,\n",
    "    auto_augment = cfg.aa,\n",
    "    interpolation = cfg.train_interpolation,\n",
    "    re_prob = cfg.reprob,\n",
    "    re_mode = cfg.remode,\n",
    "    re_count = cfg.recount,\n",
    "    mean = mean,\n",
    "    std = std,\n",
    ")"
   ]
  },
  {
   "cell_type": "code",
   "execution_count": 21,
   "metadata": {
    "execution": {
     "iopub.execute_input": "2022-11-02T01:24:53.116884Z",
     "iopub.status.busy": "2022-11-02T01:24:53.116538Z",
     "iopub.status.idle": "2022-11-02T01:24:53.121662Z",
     "shell.execute_reply": "2022-11-02T01:24:53.120819Z",
     "shell.execute_reply.started": "2022-11-02T01:24:53.116856Z"
    }
   },
   "outputs": [],
   "source": [
    "resize_im = cfg.input_size > 32\n",
    "if not resize_im:\n",
    "    transform.transforms[0] = transforms.RandomCrop(\n",
    "        cfg.input_size, padding=4\n",
    "    )"
   ]
  },
  {
   "cell_type": "code",
   "execution_count": 25,
   "metadata": {
    "execution": {
     "iopub.execute_input": "2022-11-02T01:30:40.837997Z",
     "iopub.status.busy": "2022-11-02T01:30:40.837685Z",
     "iopub.status.idle": "2022-11-02T01:31:11.214166Z",
     "shell.execute_reply": "2022-11-02T01:31:11.213377Z",
     "shell.execute_reply.started": "2022-11-02T01:30:40.837976Z"
    }
   },
   "outputs": [],
   "source": [
    "dataset_train = datasets.ImageNet('/notebooks/imagenet/', transform=transform)"
   ]
  },
  {
   "cell_type": "code",
   "execution_count": 26,
   "metadata": {
    "execution": {
     "iopub.execute_input": "2022-11-02T01:36:48.679405Z",
     "iopub.status.busy": "2022-11-02T01:36:48.678114Z",
     "iopub.status.idle": "2022-11-02T01:36:48.683811Z",
     "shell.execute_reply": "2022-11-02T01:36:48.682708Z",
     "shell.execute_reply.started": "2022-11-02T01:36:48.679361Z"
    }
   },
   "outputs": [],
   "source": [
    "val_transform = transforms.Compose([\n",
    "    transforms.ToTensor(),\n",
    "    transforms.Normalize(mean, std),\n",
    "])"
   ]
  },
  {
   "cell_type": "code",
   "execution_count": 27,
   "metadata": {
    "execution": {
     "iopub.execute_input": "2022-11-02T01:37:17.025839Z",
     "iopub.status.busy": "2022-11-02T01:37:17.025154Z",
     "iopub.status.idle": "2022-11-02T01:39:37.057170Z",
     "shell.execute_reply": "2022-11-02T01:39:37.056556Z",
     "shell.execute_reply.started": "2022-11-02T01:37:17.025813Z"
    }
   },
   "outputs": [],
   "source": [
    "dataset_val = datasets.ImageNet('/notebooks/imagenet/', split='val', transform=val_transform)"
   ]
  },
  {
   "cell_type": "code",
   "execution_count": 29,
   "metadata": {
    "execution": {
     "iopub.execute_input": "2022-11-02T01:44:37.068812Z",
     "iopub.status.busy": "2022-11-02T01:44:37.068498Z",
     "iopub.status.idle": "2022-11-02T01:44:37.073706Z",
     "shell.execute_reply": "2022-11-02T01:44:37.072674Z",
     "shell.execute_reply.started": "2022-11-02T01:44:37.068788Z"
    }
   },
   "outputs": [],
   "source": [
    "data_loader_train = torch.utils.data.DataLoader(\n",
    "    dataset_train,\n",
    "    batch_size = cfg.batch_size,\n",
    "    num_workers = cfg.num_workers,\n",
    "    pin_memory = cfg.pin_mem,\n",
    "    drop_last = True,\n",
    ")"
   ]
  },
  {
   "cell_type": "code",
   "execution_count": 30,
   "metadata": {
    "execution": {
     "iopub.execute_input": "2022-11-02T01:46:21.413513Z",
     "iopub.status.busy": "2022-11-02T01:46:21.413224Z",
     "iopub.status.idle": "2022-11-02T01:46:21.418551Z",
     "shell.execute_reply": "2022-11-02T01:46:21.417195Z",
     "shell.execute_reply.started": "2022-11-02T01:46:21.413493Z"
    }
   },
   "outputs": [],
   "source": [
    "data_loader_val = torch.utils.data.DataLoader(\n",
    "    dataset_val,\n",
    "    batch_size = int(1.5 * cfg.batch_size),\n",
    "    num_workers = cfg.num_workers,\n",
    "    pin_memory = cfg.pin_mem,\n",
    "    drop_last = False,\n",
    ")"
   ]
  },
  {
   "cell_type": "code",
   "execution_count": 8,
   "metadata": {
    "execution": {
     "iopub.execute_input": "2022-11-02T01:48:52.002611Z",
     "iopub.status.busy": "2022-11-02T01:48:52.001829Z",
     "iopub.status.idle": "2022-11-02T01:48:52.007907Z",
     "shell.execute_reply": "2022-11-02T01:48:52.007259Z",
     "shell.execute_reply.started": "2022-11-02T01:48:52.002578Z"
    }
   },
   "outputs": [
    {
     "data": {
      "text/plain": [
       "True"
      ]
     },
     "execution_count": 8,
     "metadata": {},
     "output_type": "execute_result"
    }
   ],
   "source": [
    "mixup_active = cfg.mixup > 0 or cfg.cutmix > 0. or cfg.cutmix_minmax is not None\n",
    "mixup_active"
   ]
  },
  {
   "cell_type": "code",
   "execution_count": 9,
   "metadata": {
    "execution": {
     "iopub.execute_input": "2022-11-02T01:51:08.959904Z",
     "iopub.status.busy": "2022-11-02T01:51:08.958966Z",
     "iopub.status.idle": "2022-11-02T01:51:08.963773Z",
     "shell.execute_reply": "2022-11-02T01:51:08.962996Z",
     "shell.execute_reply.started": "2022-11-02T01:51:08.959874Z"
    }
   },
   "outputs": [],
   "source": [
    "mixup_fn = Mixup(\n",
    "    mixup_alpha = cfg.mixup, cutmix_alpha = cfg.cutmix,\n",
    "    cutmix_minmax = cfg.cutmix_minmax,\n",
    "    prob = cfg.mixup_prob,\n",
    "    switch_prob = cfg.mixup_switch_prob,\n",
    "    mode = cfg.mixup_mode,\n",
    "    label_smoothing = cfg.smoothing,\n",
    "    num_classes = cfg.nb_classes\n",
    ")"
   ]
  },
  {
   "cell_type": "code",
   "execution_count": 10,
   "metadata": {
    "execution": {
     "iopub.execute_input": "2022-11-02T02:28:51.366416Z",
     "iopub.status.busy": "2022-11-02T02:28:51.365752Z",
     "iopub.status.idle": "2022-11-02T02:28:51.717108Z",
     "shell.execute_reply": "2022-11-02T02:28:51.716283Z",
     "shell.execute_reply.started": "2022-11-02T02:28:51.366390Z"
    }
   },
   "outputs": [],
   "source": [
    "model = create_model(\n",
    "    'convnext_tiny',\n",
    "    pretrained=False, \n",
    "    pretrained_cfg=None,\n",
    "    num_classes = cfg.nb_classes,\n",
    "    drop_path_rate = cfg.drop_path,\n",
    "    layer_scale_init_value = cfg.layer_scale_init_value,\n",
    "    head_init_scale = cfg.head_init_scale,\n",
    ")"
   ]
  },
  {
   "cell_type": "code",
   "execution_count": 14,
   "metadata": {},
   "outputs": [
    {
     "data": {
      "text/plain": [
       "device(type='cuda')"
      ]
     },
     "execution_count": 14,
     "metadata": {},
     "output_type": "execute_result"
    }
   ],
   "source": [
    "device = torch.device(cfg.device)\n",
    "device"
   ]
  },
  {
   "cell_type": "code",
   "execution_count": 15,
   "metadata": {},
   "outputs": [],
   "source": [
    "model_ema = None\n",
    "if cfg.model_ema:\n",
    "    model_ema = ModelEma(\n",
    "        model,\n",
    "        decay = cfg.model_ema_decay,\n",
    "        device = 'cpu' if cfg.model_ema_force_cpu else '',\n",
    "        resume=''\n",
    "    )"
   ]
  },
  {
   "cell_type": "code",
   "execution_count": 17,
   "metadata": {},
   "outputs": [
    {
     "data": {
      "text/plain": [
       "28589128"
      ]
     },
     "execution_count": 17,
     "metadata": {},
     "output_type": "execute_result"
    }
   ],
   "source": [
    "n_parameters = sum(p.numel() for p in model.parameters() if p.requires_grad)\n",
    "n_parameters"
   ]
  },
  {
   "cell_type": "code",
   "execution_count": null,
   "metadata": {},
   "outputs": [],
   "source": [
    "total_batch_size = cfg.batch_size * cfg.update_freq\n",
    "num_training_steps_per_epoch = len(dataset_train) // total_batch_size"
   ]
  },
  {
   "cell_type": "code",
   "execution_count": 8,
   "metadata": {
    "execution": {
     "iopub.execute_input": "2022-10-28T12:29:21.967118Z",
     "iopub.status.busy": "2022-10-28T12:29:21.966418Z",
     "iopub.status.idle": "2022-10-28T12:29:22.242180Z",
     "shell.execute_reply": "2022-10-28T12:29:22.241690Z",
     "shell.execute_reply.started": "2022-10-28T12:29:21.967096Z"
    }
   },
   "outputs": [
    {
     "name": "stderr",
     "output_type": "stream",
     "text": [
      "/usr/local/lib/python3.9/dist-packages/torchvision/models/_utils.py:208: UserWarning: The parameter 'pretrained' is deprecated since 0.13 and will be removed in 0.15, please use 'weights' instead.\n",
      "  warnings.warn(\n",
      "/usr/local/lib/python3.9/dist-packages/torchvision/models/_utils.py:223: UserWarning: Arguments other than a weight enum or `None` for 'weights' are deprecated since 0.13 and will be removed in 0.15. The current behavior is equivalent to passing `weights=None`.\n",
      "  warnings.warn(msg)\n"
     ]
    },
    {
     "data": {
      "text/plain": [
       "  | Name  | Type   | Params\n",
       "---------------------------------\n",
       "0 | model | ResNet | 23.4 M\n",
       "---------------------------------\n",
       "23.4 M    Trainable params\n",
       "0         Non-trainable params\n",
       "23.4 M    Total params\n",
       "93.559    Total estimated model params size (MB)"
      ]
     },
     "execution_count": 8,
     "metadata": {},
     "output_type": "execute_result"
    }
   ],
   "source": [
    "model = ResNext50(cfg)\n",
    "\n",
    "pl.utilities.model_summary.summarize(model,max_depth=1)\n",
    "\n"
   ]
  },
  {
   "cell_type": "code",
   "execution_count": 9,
   "metadata": {
    "execution": {
     "iopub.execute_input": "2022-10-28T12:29:22.243552Z",
     "iopub.status.busy": "2022-10-28T12:29:22.242862Z",
     "iopub.status.idle": "2022-10-28T12:29:22.353464Z",
     "shell.execute_reply": "2022-10-28T12:29:22.352748Z",
     "shell.execute_reply.started": "2022-10-28T12:29:22.243531Z"
    }
   },
   "outputs": [
    {
     "name": "stderr",
     "output_type": "stream",
     "text": [
      "Using 16bit native Automatic Mixed Precision (AMP)\n",
      "GPU available: True (cuda), used: True\n",
      "TPU available: False, using: 0 TPU cores\n",
      "IPU available: False, using: 0 IPUs\n",
      "HPU available: False, using: 0 HPUs\n"
     ]
    }
   ],
   "source": [
    "trainer = pl.Trainer(\n",
    "    # progress_bar_refresh_rate=10,\n",
    "    precision=16,\n",
    "    max_epochs=cfg.num_epochs,\n",
    "    accelerator='gpu',\n",
    "    devices=1,\n",
    "    enable_checkpointing=False,\n",
    "    logger=pl_loggers.CSVLogger(\"lightning_logs/\", name=\"convmixer\"),\n",
    "#     callbacks=[LearningRateMonitor(logging_interval=\"step\")],\n",
    ")    \n"
   ]
  },
  {
   "cell_type": "code",
   "execution_count": null,
   "metadata": {
    "execution": {
     "iopub.execute_input": "2022-10-28T12:29:22.356155Z",
     "iopub.status.busy": "2022-10-28T12:29:22.355450Z"
    }
   },
   "outputs": [],
   "source": [
    "\n",
    "trainer.fit(model, tiny_image_net_datamodule)\n"
   ]
  },
  {
   "cell_type": "code",
   "execution_count": null,
   "metadata": {},
   "outputs": [],
   "source": []
  }
 ],
 "metadata": {
  "kernelspec": {
   "display_name": "Python 3.8.8 ('base')",
   "language": "python",
   "name": "python3"
  },
  "language_info": {
   "codemirror_mode": {
    "name": "ipython",
    "version": 3
   },
   "file_extension": ".py",
   "mimetype": "text/x-python",
   "name": "python",
   "nbconvert_exporter": "python",
   "pygments_lexer": "ipython3",
   "version": "3.8.8"
  },
  "vscode": {
   "interpreter": {
    "hash": "b09ec625f77bf4fd762565a912b97636504ad6ec901eb2d0f4cf5a7de23e1ee5"
   }
  }
 },
 "nbformat": 4,
 "nbformat_minor": 4
}
