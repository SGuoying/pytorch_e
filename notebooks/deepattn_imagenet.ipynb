{
 "cells": [
  {
   "cell_type": "code",
   "execution_count": 1,
   "metadata": {
    "execution": {
     "iopub.execute_input": "2022-11-02T01:54:32.878213Z",
     "iopub.status.busy": "2022-11-02T01:54:32.877339Z",
     "iopub.status.idle": "2022-11-02T01:54:32.881404Z",
     "shell.execute_reply": "2022-11-02T01:54:32.880667Z",
     "shell.execute_reply.started": "2022-11-02T01:54:32.878189Z"
    }
   },
   "outputs": [],
   "source": [
    "import torch\n",
    "import torch.nn as nn\n",
    "import torch.nn.functional as F\n",
    "\n",
    "from timm.models import create_model\n",
    "\n",
    "from sunyata.pytorch.arch.convnext2 import ConvNext, ConvNextCfg, convnext_tiny, attnconvnext_tiny"
   ]
  },
  {
   "cell_type": "code",
   "execution_count": 2,
   "metadata": {},
   "outputs": [
    {
     "data": {
      "text/plain": [
       "ConvNextCfg(batch_size=64, epochs=300, update_freq=1, drop_path=0.1, input_size=224, layer_scale_init_value=1e-06, model_ema=True, model_ema_decay=0.9999, model_ema_force_cpu=False, model_ema_eval=True, opt='adamw', opt_eps=1e-08, opt_betas=None, clip_grad=None, momentum=0.9, weight_decay=0.05, weight_decay_end=None, lr=0.004, layer_decay=1.0, min_lr=1e-06, warmup_epochs=20, warmup_steps=-1, color_jitter=0.4, aa='rand-m9-mstd0.5-incl', smoothing=0.1, train_interpolation='bicubic', crop_pct=None, reprob=0.25, remode='pixel', recount=1, resplit=False, mixup=0.8, cutmix=1.0, cutmix_minmax=None, mixup_prob=1.0, mixup_switch_prob=0.5, mixup_mode='batch', finetune='', head_init_scale=1.0, data_path=None, eval_data_path=None, nb_classes=1000, imagenet_default_mean_and_std=True, data_set='IMNET', output_dir='', log_dir=None, device='cuda', seed=0, resume='', auto_resume=True, save_ckpt=True, save_ckpt_freq=1, save_ckpt_num=3, start_epoch=0, eval=False, dist_eval=True, disable_eval=False, num_workers=8, pin_mem=True)"
      ]
     },
     "execution_count": 2,
     "metadata": {},
     "output_type": "execute_result"
    }
   ],
   "source": [
    "cfg = ConvNextCfg(\n",
    "    drop_path = 0.1,\n",
    "    model_ema = True,\n",
    "    model_ema_eval = True,\n",
    "\n",
    "    num_workers = 8,\n",
    ")\n",
    "cfg"
   ]
  },
  {
   "cell_type": "code",
   "execution_count": 10,
   "metadata": {
    "execution": {
     "iopub.execute_input": "2022-11-02T02:28:51.366416Z",
     "iopub.status.busy": "2022-11-02T02:28:51.365752Z",
     "iopub.status.idle": "2022-11-02T02:28:51.717108Z",
     "shell.execute_reply": "2022-11-02T02:28:51.716283Z",
     "shell.execute_reply.started": "2022-11-02T02:28:51.366390Z"
    }
   },
   "outputs": [],
   "source": [
    "model = create_model(\n",
    "    'convnext_tiny',\n",
    "    pretrained=False, \n",
    "    pretrained_cfg=None,\n",
    "    num_classes = cfg.nb_classes,\n",
    "    drop_path_rate = cfg.drop_path,\n",
    "    layer_scale_init_value = cfg.layer_scale_init_value,\n",
    "    head_init_scale = cfg.head_init_scale,\n",
    ")"
   ]
  },
  {
   "cell_type": "code",
   "execution_count": 11,
   "metadata": {},
   "outputs": [
    {
     "data": {
      "text/plain": [
       "28589128"
      ]
     },
     "execution_count": 11,
     "metadata": {},
     "output_type": "execute_result"
    }
   ],
   "source": [
    "n_parameters = sum(p.numel() for p in model.parameters() if p.requires_grad)\n",
    "n_parameters"
   ]
  },
  {
   "cell_type": "code",
   "execution_count": 12,
   "metadata": {},
   "outputs": [],
   "source": [
    "input = torch.randn(2,3,256,256)"
   ]
  },
  {
   "cell_type": "code",
   "execution_count": 13,
   "metadata": {},
   "outputs": [
    {
     "data": {
      "text/plain": [
       "tensor([[ 0.4113,  0.0209, -0.2038,  ..., -0.1086, -0.3844, -0.0825],\n",
       "        [ 0.5285, -0.3509, -0.1884,  ..., -0.3615,  1.0245, -0.3569]],\n",
       "       grad_fn=<AddmmBackward0>)"
      ]
     },
     "execution_count": 13,
     "metadata": {},
     "output_type": "execute_result"
    }
   ],
   "source": [
    "model(input)"
   ]
  },
  {
   "cell_type": "code",
   "execution_count": 14,
   "metadata": {},
   "outputs": [],
   "source": [
    "attn_model = create_model(\n",
    "    'attnconvnext_tiny',\n",
    "    pretrained=False, \n",
    "    pretrained_cfg=None,\n",
    "    num_classes = cfg.nb_classes,\n",
    "    drop_path_rate = cfg.drop_path,\n",
    "    layer_scale_init_value = cfg.layer_scale_init_value,\n",
    "    head_init_scale = cfg.head_init_scale,\n",
    ")"
   ]
  },
  {
   "cell_type": "code",
   "execution_count": 15,
   "metadata": {},
   "outputs": [
    {
     "data": {
      "text/plain": [
       "28597192"
      ]
     },
     "execution_count": 15,
     "metadata": {},
     "output_type": "execute_result"
    }
   ],
   "source": [
    "n_parameters = sum(p.numel() for p in attn_model.parameters() if p.requires_grad)\n",
    "n_parameters"
   ]
  },
  {
   "cell_type": "code",
   "execution_count": 16,
   "metadata": {},
   "outputs": [
    {
     "data": {
      "text/plain": [
       "tensor([[ 0.3824,  0.4885, -0.1053,  ...,  0.0507,  0.3630, -0.0288],\n",
       "        [ 0.1484,  0.1502, -1.1006,  ...,  0.6671, -0.3909,  0.3619]],\n",
       "       grad_fn=<AddmmBackward0>)"
      ]
     },
     "execution_count": 16,
     "metadata": {},
     "output_type": "execute_result"
    }
   ],
   "source": [
    "attn_model(input)"
   ]
  },
  {
   "cell_type": "code",
   "execution_count": null,
   "metadata": {},
   "outputs": [],
   "source": []
  }
 ],
 "metadata": {
  "kernelspec": {
   "display_name": "Python 3.8.8 ('base')",
   "language": "python",
   "name": "python3"
  },
  "language_info": {
   "codemirror_mode": {
    "name": "ipython",
    "version": 3
   },
   "file_extension": ".py",
   "mimetype": "text/x-python",
   "name": "python",
   "nbconvert_exporter": "python",
   "pygments_lexer": "ipython3",
   "version": "3.8.8"
  },
  "vscode": {
   "interpreter": {
    "hash": "b09ec625f77bf4fd762565a912b97636504ad6ec901eb2d0f4cf5a7de23e1ee5"
   }
  }
 },
 "nbformat": 4,
 "nbformat_minor": 4
}
